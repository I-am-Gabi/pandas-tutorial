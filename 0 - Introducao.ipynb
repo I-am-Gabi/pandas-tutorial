{
 "metadata": {
  "name": ""
 },
 "nbformat": 3,
 "nbformat_minor": 0,
 "worksheets": [
  {
   "cells": [
    {
     "cell_type": "markdown",
     "metadata": {},
     "source": [
      "#Introdu\u00e7\u00e3o \u00e0 An\u00e1lise de Dados e Explora\u00e7\u00e3o de Dados com Python e Pandas"
     ]
    },
    {
     "cell_type": "code",
     "collapsed": false,
     "input": [
      "from IPython.display import Image\n",
      "Image(url='http://ilabcentral.org/images/cycle.jpg')"
     ],
     "language": "python",
     "metadata": {},
     "outputs": [
      {
       "html": [
        "<img src=\"http://ilabcentral.org/images/cycle.jpg\"/>"
       ],
       "metadata": {},
       "output_type": "pyout",
       "prompt_number": 6,
       "text": [
        "<IPython.core.display.Image at 0x11364ca50>"
       ]
      }
     ],
     "prompt_number": 6
    },
    {
     "cell_type": "markdown",
     "metadata": {},
     "source": [
      "##O que \u00e9 a biblioteca pandas ?\n",
      "\n",
      "*panda \u00e9 uma biblioteca open-source em Python para an\u00e1lise de dados. Python tem sido uma excelente plataforma para manipula\u00e7\u00e3o e leitura de dados, mas nunca foi boa para an\u00e1lise - sempre ca\u00edamos no uso da linguagem R ou Matlab ou carregando a base de dados usando SQL ou at\u00e9 no  Excel.  pandas torna Python uma excelente alternativa para an\u00e1lise explora\u00e7\u00e3o de dados.*"
     ]
    },
    {
     "cell_type": "code",
     "collapsed": false,
     "input": [
      "from IPython.core.display import HTML\n",
      "HTML(\"<iframe src=http://pandas.pydata.org width=800 height=350></iframe>\")"
     ],
     "language": "python",
     "metadata": {},
     "outputs": [
      {
       "html": [
        "<iframe src=http://pandas.pydata.org width=800 height=350></iframe>"
       ],
       "metadata": {},
       "output_type": "pyout",
       "prompt_number": 2,
       "text": [
        "<IPython.core.display.HTML at 0x110b79050>"
       ]
      }
     ],
     "prompt_number": 2
    },
    {
     "cell_type": "markdown",
     "metadata": {},
     "source": [
      "###Estrutura de Dados\n",
      "\n",
      "Pandas introduz dois novos tipos de dados para Python - Series e DataFrame, ambos constru\u00eddos em cima da biblioteca Numpy (isto significa ser r\u00e1pido).\n"
     ]
    },
    {
     "cell_type": "code",
     "collapsed": false,
     "input": [
      "import pandas as pd\n",
      "import numpy as np\n",
      "import matplotlib.pyplot as plt\n",
      "pd.set_option('max_columns', 50)"
     ],
     "language": "python",
     "metadata": {},
     "outputs": [],
     "prompt_number": 51
    },
    {
     "cell_type": "markdown",
     "metadata": {},
     "source": [
      "###Series\n",
      "\n",
      "Series \u00e9 um objeto em uma dimens\u00e3o similar ao array, lista ou columa em uma tabela. Ele permite atribuir \u00edndices rotulados para cada item dentro da Series. Por padr\u00e3o, cada item ir\u00e1 receber um r\u00f3tulo (indice) de 0 at\u00e9 N, onde N \u00e9 o tramanho da Series - 1."
     ]
    },
    {
     "cell_type": "code",
     "collapsed": false,
     "input": [
      "# create a Series with an arbitrary list\n",
      "s = pd.Series([7, 'Python', 3.14, -1789710578, 'Adoro!'])\n",
      "s"
     ],
     "language": "python",
     "metadata": {},
     "outputs": [
      {
       "metadata": {},
       "output_type": "pyout",
       "prompt_number": 7,
       "text": [
        "0              7\n",
        "1         Python\n",
        "2           3.14\n",
        "3    -1789710578\n",
        "4         Adoro!\n",
        "dtype: object"
       ]
      }
     ],
     "prompt_number": 7
    },
    {
     "cell_type": "markdown",
     "metadata": {},
     "source": [
      "Outra alternativa \u00e9 poder especificar o \u00edndice que ser\u00e1 usado quando cria uma Series."
     ]
    },
    {
     "cell_type": "code",
     "collapsed": false,
     "input": [
      "s = pd.Series([7, 'Python', 3.14, -1789710578, 'Adoro!'],\n",
      "              index=['A', 'Z', 'C', 'Y', 'E'])\n",
      "s"
     ],
     "language": "python",
     "metadata": {},
     "outputs": [
      {
       "metadata": {},
       "output_type": "pyout",
       "prompt_number": 8,
       "text": [
        "A              7\n",
        "Z         Python\n",
        "C           3.14\n",
        "Y    -1789710578\n",
        "E         Adoro!\n",
        "dtype: object"
       ]
      }
     ],
     "prompt_number": 8
    },
    {
     "cell_type": "markdown",
     "metadata": {},
     "source": [
      "O construtor de Series pode converter um dicionario tamb\u00e9m, usando as chaves do dicion\u00e1rio como \u00edndice."
     ]
    },
    {
     "cell_type": "code",
     "collapsed": false,
     "input": [
      "d = {'Recife': 1000, 'Brasilia': 1300, 'Maceio': 900, 'Salvador': 1100,\n",
      "     'Aracaju': 450, 'Natal': None}\n",
      "cities = pd.Series(d)\n",
      "cities"
     ],
     "language": "python",
     "metadata": {},
     "outputs": [
      {
       "metadata": {},
       "output_type": "pyout",
       "prompt_number": 9,
       "text": [
        "Aracaju      450\n",
        "Brasilia    1300\n",
        "Maceio       900\n",
        "Natal        NaN\n",
        "Recife      1000\n",
        "Salvador    1100\n",
        "dtype: float64"
       ]
      }
     ],
     "prompt_number": 9
    },
    {
     "cell_type": "markdown",
     "metadata": {},
     "source": [
      "Voc\u00ea pode usar \u00edndices para selecionar items espec\u00edficos de uma Series..."
     ]
    },
    {
     "cell_type": "code",
     "collapsed": false,
     "input": [
      "cities['Brasilia']"
     ],
     "language": "python",
     "metadata": {},
     "outputs": [
      {
       "metadata": {},
       "output_type": "pyout",
       "prompt_number": 13,
       "text": [
        "1300.0"
       ]
      }
     ],
     "prompt_number": 13
    },
    {
     "cell_type": "code",
     "collapsed": false,
     "input": [
      "cities[['Brasilia', 'Salvador', 'Recife']]"
     ],
     "language": "python",
     "metadata": {},
     "outputs": [
      {
       "metadata": {},
       "output_type": "pyout",
       "prompt_number": 14,
       "text": [
        "Brasilia    1300\n",
        "Salvador    1100\n",
        "Recife      1000\n",
        "dtype: float64"
       ]
      }
     ],
     "prompt_number": 14
    },
    {
     "cell_type": "code",
     "collapsed": false,
     "input": [
      "#ou ate boolean indexing para selecao\n",
      "cities[cities < 1000]"
     ],
     "language": "python",
     "metadata": {},
     "outputs": [
      {
       "metadata": {},
       "output_type": "pyout",
       "prompt_number": 16,
       "text": [
        "Aracaju    450\n",
        "Maceio     900\n",
        "dtype: float64"
       ]
      }
     ],
     "prompt_number": 16
    },
    {
     "cell_type": "markdown",
     "metadata": {},
     "source": [
      "O \u00faltimo caso pode ser um pouco estranho, mas vamos torn\u00e1-lo mais claro - cities < 1000 retorna uma Series de valores True/False, onde passamos para nossa Series cities e ele retorna apenas os items correspondentes a True."
     ]
    },
    {
     "cell_type": "code",
     "collapsed": false,
     "input": [
      "menor_que_100 = cities < 1000\n",
      "print menor_que_100\n",
      "print '\\n'\n",
      "print cities[menor_que_100]"
     ],
     "language": "python",
     "metadata": {},
     "outputs": [
      {
       "output_type": "stream",
       "stream": "stdout",
       "text": [
        "Aracaju      True\n",
        "Brasilia    False\n",
        "Maceio       True\n",
        "Natal       False\n",
        "Recife      False\n",
        "Salvador    False\n",
        "dtype: bool\n",
        "\n",
        "\n",
        "Aracaju    450\n",
        "Maceio     900\n",
        "dtype: float64\n"
       ]
      }
     ],
     "prompt_number": 17
    },
    {
     "cell_type": "markdown",
     "metadata": {},
     "source": [
      "Voc\u00ea pode mudar os dados da Series em tempo de execu\u00e7\u00e3o!"
     ]
    },
    {
     "cell_type": "code",
     "collapsed": false,
     "input": [
      "# changing based on the index\n",
      "print 'Valor Antigo:', cities['Aracaju']\n",
      "cities['Aracaju'] = 1400\n",
      "print 'Valor Novo:', cities['Aracaju']"
     ],
     "language": "python",
     "metadata": {},
     "outputs": [
      {
       "output_type": "stream",
       "stream": "stdout",
       "text": [
        "Valor Antigo: 450.0\n",
        "Valor Novo: 1400.0\n"
       ]
      }
     ],
     "prompt_number": 18
    },
    {
     "cell_type": "code",
     "collapsed": false,
     "input": [
      "# changing values using boolean logic\n",
      "print cities[cities < 1000]\n",
      "print '\\n'\n",
      "cities[cities < 1000] = 750\n",
      "print cities[cities < 1000]"
     ],
     "language": "python",
     "metadata": {},
     "outputs": [
      {
       "output_type": "stream",
       "stream": "stdout",
       "text": [
        "Maceio    900\n",
        "dtype: float64\n",
        "\n",
        "\n",
        "Maceio    750\n",
        "dtype: float64\n"
       ]
      }
     ],
     "prompt_number": 19
    },
    {
     "cell_type": "markdown",
     "metadata": {},
     "source": [
      "Se voc\u00ea n\u00e3o tem certeza se um item est\u00e1 dentro de uma Series, voc\u00ea pode checar usando Python b\u00e1sico."
     ]
    },
    {
     "cell_type": "code",
     "collapsed": false,
     "input": [
      "print 'Recife' in cities\n",
      "print 'Sao Paulo' in cities"
     ],
     "language": "python",
     "metadata": {},
     "outputs": [
      {
       "output_type": "stream",
       "stream": "stdout",
       "text": [
        "True\n",
        "False\n"
       ]
      }
     ],
     "prompt_number": 20
    },
    {
     "cell_type": "markdown",
     "metadata": {},
     "source": [
      "Opera\u00e7\u00f5es matem\u00e1ticas podem ser feitas usando escalares e fun\u00e7\u00f5es."
     ]
    },
    {
     "cell_type": "code",
     "collapsed": false,
     "input": [
      "# divide city values by 3\n",
      "cities / 3"
     ],
     "language": "python",
     "metadata": {},
     "outputs": [
      {
       "metadata": {},
       "output_type": "pyout",
       "prompt_number": 21,
       "text": [
        "Aracaju     466.666667\n",
        "Brasilia    433.333333\n",
        "Maceio      250.000000\n",
        "Natal              NaN\n",
        "Recife      333.333333\n",
        "Salvador    366.666667\n",
        "dtype: float64"
       ]
      }
     ],
     "prompt_number": 21
    },
    {
     "cell_type": "code",
     "collapsed": false,
     "input": [
      "# square city values\n",
      "np.square(cities)"
     ],
     "language": "python",
     "metadata": {},
     "outputs": [
      {
       "metadata": {},
       "output_type": "pyout",
       "prompt_number": 22,
       "text": [
        "Aracaju     1960000\n",
        "Brasilia    1690000\n",
        "Maceio       562500\n",
        "Natal           NaN\n",
        "Recife      1000000\n",
        "Salvador    1210000\n",
        "dtype: float64"
       ]
      }
     ],
     "prompt_number": 22
    },
    {
     "cell_type": "markdown",
     "metadata": {},
     "source": [
      "Voc\u00ea pode adicionar 2 Series, o que vai retornar uma uni\u00e3o de duas s\u00e9ries com adi\u00e7\u00e3o dos valores em que os \u00edndices s\u00e3o iguais. \n",
      "Valores nas s\u00e9ries que n\u00e3o tem \u00edndices em comum ir\u00e3o retornar o valor NULL/NaN (not a number)."
     ]
    },
    {
     "cell_type": "code",
     "collapsed": false,
     "input": [
      "print cities[['Recife', 'Brasilia', 'Aracaju']]\n",
      "print'\\n'\n",
      "print cities[['Maceio', 'Recife']]\n",
      "print'\\n'\n",
      "print cities[['Recife', 'Brasilia', 'Aracaju']] + cities[['Maceio', 'Recife']]"
     ],
     "language": "python",
     "metadata": {},
     "outputs": [
      {
       "output_type": "stream",
       "stream": "stdout",
       "text": [
        "Recife      1000\n",
        "Brasilia    1300\n",
        "Aracaju     1400\n",
        "dtype: float64\n",
        "\n",
        "\n",
        "Maceio     750\n",
        "Recife    1000\n",
        "dtype: float64\n",
        "\n",
        "\n",
        "Aracaju      NaN\n",
        "Brasilia     NaN\n",
        "Maceio       NaN\n",
        "Recife      2000\n",
        "dtype: float64"
       ]
      },
      {
       "output_type": "stream",
       "stream": "stdout",
       "text": [
        "\n"
       ]
      }
     ],
     "prompt_number": 24
    },
    {
     "cell_type": "markdown",
     "metadata": {},
     "source": [
      "Note que Aracaju, Brasilia e Maceio como n\u00e3o foram encontradas em ambas as Series, eles retornaram valores NULL/NaN.\n",
      "\n",
      "O check de NULL pode ser realizado com as fun\u00e7\u00f5es isnull e notnull."
     ]
    },
    {
     "cell_type": "code",
     "collapsed": false,
     "input": [
      "# returns a boolean series indicating which values aren't NULL\n",
      "cities.notnull()"
     ],
     "language": "python",
     "metadata": {},
     "outputs": [
      {
       "metadata": {},
       "output_type": "pyout",
       "prompt_number": 25,
       "text": [
        "Aracaju      True\n",
        "Brasilia     True\n",
        "Maceio       True\n",
        "Natal       False\n",
        "Recife       True\n",
        "Salvador     True\n",
        "dtype: bool"
       ]
      }
     ],
     "prompt_number": 25
    },
    {
     "cell_type": "code",
     "collapsed": false,
     "input": [
      "# use boolean logic to grab the NULL cities\n",
      "print cities.isnull()\n",
      "print '\\n'\n",
      "print cities[cities.isnull()]"
     ],
     "language": "python",
     "metadata": {},
     "outputs": [
      {
       "output_type": "stream",
       "stream": "stdout",
       "text": [
        "Aracaju     False\n",
        "Brasilia    False\n",
        "Maceio      False\n",
        "Natal        True\n",
        "Recife      False\n",
        "Salvador    False\n",
        "dtype: bool\n",
        "\n",
        "\n",
        "Natal   NaN\n",
        "dtype: float64\n"
       ]
      }
     ],
     "prompt_number": 26
    },
    {
     "cell_type": "markdown",
     "metadata": {},
     "source": [
      "###Data Frame\n",
      "\n",
      "Um DataFrame \u00e9 uma estrutura de dados tabular composta por colunas e linhas, lembrando muito as planilhas, tabela de banco de dados, ou quem \u00e9 familiar com a linguagem R: o data.frame . Voc\u00ea pode imaginar o DataFrame como um grupo de Series que compartilham o \u00edndice (os nomes das colunas)."
     ]
    },
    {
     "cell_type": "markdown",
     "metadata": {},
     "source": [
      "###Lendo dados\n",
      "\n",
      "Para criarmos um DataFrame a partir das estruturas de dados nativas em Python, n\u00f3s podemos passar um dicion\u00e1rio de listas para o construtor do DataFrame.\n",
      "\n",
      "Usando o par\u00e2metro columns nos ajuda a definir no construtor como queremos que as colunas sejam ordenadas. Por padr\u00e3o, o construtor do DataFrame ir\u00e1 ordernar as colunas em ordem alfab\u00e9tica ( embora que este n\u00e3o seja o caso quando estamos lendo de um arquivo, veremos a seguir.)"
     ]
    },
    {
     "cell_type": "code",
     "collapsed": false,
     "input": [
      "data = {'ano': [2010, 2011, 2012, 2011, 2012, 2010, 2011, 2012],\n",
      "        'time': ['Flamengo', 'Flamengo', 'Flamengo', 'Vasco', 'Vasco', 'Cruzeiro', 'Cruzeiro', 'Cruzeiro'],\n",
      "        'vitorias': [11, 8, 10, 15, 11, 6, 10, 4],\n",
      "        'derrotas': [5, 8, 6, 1, 5, 10, 6, 12]}\n",
      "football = pd.DataFrame(data, columns=['ano', 'time', 'vitorias', 'derrotas'])\n",
      "print football"
     ],
     "language": "python",
     "metadata": {},
     "outputs": [
      {
       "output_type": "stream",
       "stream": "stdout",
       "text": [
        "    ano      time  vitorias  derrotas\n",
        "0  2010  Flamengo        11         5\n",
        "1  2011  Flamengo         8         8\n",
        "2  2012  Flamengo        10         6\n",
        "3  2011     Vasco        15         1\n",
        "4  2012     Vasco        11         5\n",
        "5  2010  Cruzeiro         6        10\n",
        "6  2011  Cruzeiro        10         6\n",
        "7  2012  Cruzeiro         4        12\n"
       ]
      }
     ],
     "prompt_number": 34
    },
    {
     "cell_type": "markdown",
     "metadata": {},
     "source": [
      "O que \u00e9 mais comum, \u00e9 voc\u00ea ter uma base de dados que voc\u00ea quer fazer a leitura para um DataFrame. Vamos ver alguns exemplos:"
     ]
    },
    {
     "cell_type": "markdown",
     "metadata": {},
     "source": [
      "####CSV\n",
      "\n",
      "Ler um arquivo CSV \u00e9 simples, basta chamar a fun\u00e7\u00e3o read_csv. Por padr\u00e3o, a fun\u00e7\u00e3o read_csv espera um delimitador que pode ser uma virgula, mas voc\u00ea pode alterar usando o par\u00e2metro sep.\n"
     ]
    },
    {
     "cell_type": "code",
     "collapsed": false,
     "input": [
      "!ls"
     ],
     "language": "python",
     "metadata": {},
     "outputs": [
      {
       "output_type": "stream",
       "stream": "stdout",
       "text": [
        "0 - Introducao.ipynb\r\n",
        "equipamentos-de-monitoramento-e-ficalizacao.csv\r\n"
       ]
      }
     ],
     "prompt_number": 36
    },
    {
     "cell_type": "code",
     "collapsed": false,
     "input": [
      "# Source: http://dados.recife.pe.gov.br/dataset/equipamentos-de-monitoramento-e-fiscalizacao-de-transito\n",
      "!head -n 5 equipamentos-de-monitoramento-e-ficalizacao.csv"
     ],
     "language": "python",
     "metadata": {},
     "outputs": [
      {
       "output_type": "stream",
       "stream": "stdout",
       "text": [
        "localizacao;tipo;latitude;longitude;velocidade_regulamentada\r",
        "\r\n",
        "AV. MASCARENHAS DE MORAES - PROX. AEROPORTO - SENTIDO PRAZERES;LOMBADA ELETR\u00d4NICA/C\u00c2MERA DE MONITORAMENTO;-8,130088;-34,915644;60\r",
        "\r\n",
        "VIADUTO CAP. TEMUDO;CAMERA MONITORAMENTO;-8,070851;-34,896097;\r",
        "\r\n",
        "AV. RECIFE x ENTRADA DO IBURA;CAMERA MONITORAMENTO;-8,106849;-34,927318;\r",
        "\r\n",
        "AV. CONSELHEIRO AGUIAR X RUA PE. CARAPUCEIRO;CAMERA MONITORAMENTO;-8,119552;-34,896644;\r",
        "\r\n"
       ]
      }
     ],
     "prompt_number": 37
    },
    {
     "cell_type": "code",
     "collapsed": false,
     "input": [
      "from_csv = pd.read_csv('equipamentos-de-monitoramento-e-ficalizacao.csv', sep=';')\n",
      "from_csv.head()"
     ],
     "language": "python",
     "metadata": {},
     "outputs": [
      {
       "html": [
        "<div style=\"max-height:1000px;max-width:1500px;overflow:auto;\">\n",
        "<table border=\"1\" class=\"dataframe\">\n",
        "  <thead>\n",
        "    <tr style=\"text-align: right;\">\n",
        "      <th></th>\n",
        "      <th>localizacao</th>\n",
        "      <th>tipo</th>\n",
        "      <th>latitude</th>\n",
        "      <th>longitude</th>\n",
        "      <th>velocidade_regulamentada</th>\n",
        "    </tr>\n",
        "  </thead>\n",
        "  <tbody>\n",
        "    <tr>\n",
        "      <th>0</th>\n",
        "      <td> AV. MASCARENHAS DE MORAES - PROX. AEROPORTO - ...</td>\n",
        "      <td> LOMBADA ELETR\u00d4NICA/C\u00c2MERA DE MONITORAMENTO</td>\n",
        "      <td> -8,130088</td>\n",
        "      <td> -34,915644</td>\n",
        "      <td> 60</td>\n",
        "    </tr>\n",
        "    <tr>\n",
        "      <th>1</th>\n",
        "      <td>                               VIADUTO CAP. TEMUDO</td>\n",
        "      <td>                       CAMERA MONITORAMENTO</td>\n",
        "      <td> -8,070851</td>\n",
        "      <td> -34,896097</td>\n",
        "      <td>NaN</td>\n",
        "    </tr>\n",
        "    <tr>\n",
        "      <th>2</th>\n",
        "      <td>                     AV. RECIFE x ENTRADA DO IBURA</td>\n",
        "      <td>                       CAMERA MONITORAMENTO</td>\n",
        "      <td> -8,106849</td>\n",
        "      <td> -34,927318</td>\n",
        "      <td>NaN</td>\n",
        "    </tr>\n",
        "    <tr>\n",
        "      <th>3</th>\n",
        "      <td>      AV. CONSELHEIRO AGUIAR X RUA PE. CARAPUCEIRO</td>\n",
        "      <td>                       CAMERA MONITORAMENTO</td>\n",
        "      <td> -8,119552</td>\n",
        "      <td> -34,896644</td>\n",
        "      <td>NaN</td>\n",
        "    </tr>\n",
        "    <tr>\n",
        "      <th>4</th>\n",
        "      <td>                          AV. ENG. ANTONIO DE GOES</td>\n",
        "      <td>                       CAMERA MONITORAMENTO</td>\n",
        "      <td> -8,085446</td>\n",
        "      <td> -34,886623</td>\n",
        "      <td>NaN</td>\n",
        "    </tr>\n",
        "  </tbody>\n",
        "</table>\n",
        "</div>"
       ],
       "metadata": {},
       "output_type": "pyout",
       "prompt_number": 41,
       "text": [
        "                                         localizacao  \\\n",
        "0  AV. MASCARENHAS DE MORAES - PROX. AEROPORTO - ...   \n",
        "1                                VIADUTO CAP. TEMUDO   \n",
        "2                      AV. RECIFE x ENTRADA DO IBURA   \n",
        "3       AV. CONSELHEIRO AGUIAR X RUA PE. CARAPUCEIRO   \n",
        "4                           AV. ENG. ANTONIO DE GOES   \n",
        "\n",
        "                                         tipo   latitude   longitude  \\\n",
        "0  LOMBADA ELETR\u00d4NICA/C\u00c2MERA DE MONITORAMENTO  -8,130088  -34,915644   \n",
        "1                        CAMERA MONITORAMENTO  -8,070851  -34,896097   \n",
        "2                        CAMERA MONITORAMENTO  -8,106849  -34,927318   \n",
        "3                        CAMERA MONITORAMENTO  -8,119552  -34,896644   \n",
        "4                        CAMERA MONITORAMENTO  -8,085446  -34,886623   \n",
        "\n",
        "   velocidade_regulamentada  \n",
        "0                        60  \n",
        "1                       NaN  \n",
        "2                       NaN  \n",
        "3                       NaN  \n",
        "4                       NaN  "
       ]
      }
     ],
     "prompt_number": 41
    },
    {
     "cell_type": "markdown",
     "metadata": {},
     "source": [
      "O nosso arquivo cont\u00eam cabe\u00e7alhos, o qual \u00e9 automaticamente inferido no momento da leitura do arquivo. Se quisessemos ser mais explicitos, n\u00f3s poderiamos passar o par\u00e2metro header=None para fun\u00e7\u00e3o com a lista dos nomes das colunas para uso:"
     ]
    },
    {
     "cell_type": "code",
     "collapsed": false,
     "input": [
      "#http://datapoa.com.br/dataset/acidentes-de-transito\n",
      "cols = ['id', 'log1', 'log2', 'predial1', 'local', 'tipo_acidente', 'local_via',\n",
      "        'data_hora', 'dia_sem', 'feridos', 'mortes',\n",
      "        'morte_post', 'fatais', 'auto', 'taxi', 'lotacao',\n",
      "        'onibus_urbano', 'onibus_inter', 'caminhao', 'moto', 'carroca',\n",
      "        'bicicleta', 'outro', 'tempo', 'noite_dia', 'fonte', 'boletim',\n",
      "        'regiao', 'dia', 'mes', 'ano', 'fx_hora', 'cont_acid', 'cont_vit', 'ups',\n",
      "        'latitude', 'longitude']\n",
      "no_headers = pd.read_csv('acidentes-2012.csv', sep=';', header=None,\n",
      "                         names=cols)\n",
      "no_headers.head()"
     ],
     "language": "python",
     "metadata": {},
     "outputs": [
      {
       "html": [
        "<div style=\"max-height:1000px;max-width:1500px;overflow:auto;\">\n",
        "<table border=\"1\" class=\"dataframe\">\n",
        "  <thead>\n",
        "    <tr style=\"text-align: right;\">\n",
        "      <th></th>\n",
        "      <th>id</th>\n",
        "      <th>log1</th>\n",
        "      <th>log2</th>\n",
        "      <th>predial1</th>\n",
        "      <th>local</th>\n",
        "      <th>tipo_acidente</th>\n",
        "      <th>local_via</th>\n",
        "      <th>data_hora</th>\n",
        "      <th>dia_sem</th>\n",
        "      <th>feridos</th>\n",
        "      <th>mortes</th>\n",
        "      <th>morte_post</th>\n",
        "      <th>fatais</th>\n",
        "      <th>auto</th>\n",
        "      <th>taxi</th>\n",
        "      <th>lotacao</th>\n",
        "      <th>onibus_urbano</th>\n",
        "      <th>onibus_inter</th>\n",
        "      <th>caminhao</th>\n",
        "      <th>moto</th>\n",
        "      <th>carroca</th>\n",
        "      <th>bicicleta</th>\n",
        "      <th>outro</th>\n",
        "      <th>tempo</th>\n",
        "      <th>noite_dia</th>\n",
        "      <th>fonte</th>\n",
        "      <th>boletim</th>\n",
        "      <th>regiao</th>\n",
        "      <th>dia</th>\n",
        "      <th>mes</th>\n",
        "      <th>ano</th>\n",
        "      <th>fx_hora</th>\n",
        "      <th>cont_acid</th>\n",
        "      <th>cont_vit</th>\n",
        "      <th>ups</th>\n",
        "      <th>latitude</th>\n",
        "      <th>longitude</th>\n",
        "    </tr>\n",
        "  </thead>\n",
        "  <tbody>\n",
        "    <tr>\n",
        "      <th>0</th>\n",
        "      <td> 536036</td>\n",
        "      <td> ESTR JOAO DE OLIVEIRA REMIAO</td>\n",
        "      <td>                      NaN</td>\n",
        "      <td> 5788</td>\n",
        "      <td> Logradouro</td>\n",
        "      <td>  ABALROAMENTO</td>\n",
        "      <td>                5788 ESTR JOAO DE OLIVEIRA REMIAO</td>\n",
        "      <td> 20120101 01:00</td>\n",
        "      <td> DOMINGO</td>\n",
        "      <td> 1</td>\n",
        "      <td> 0</td>\n",
        "      <td> 0</td>\n",
        "      <td> 0</td>\n",
        "      <td> 1</td>\n",
        "      <td> 0</td>\n",
        "      <td> 0</td>\n",
        "      <td> 0</td>\n",
        "      <td> 0</td>\n",
        "      <td> 0</td>\n",
        "      <td> 1</td>\n",
        "      <td> 0</td>\n",
        "      <td> 0</td>\n",
        "      <td> 0</td>\n",
        "      <td> BOM</td>\n",
        "      <td> NOITE</td>\n",
        "      <td> DEPTRAN</td>\n",
        "      <td> _26712</td>\n",
        "      <td> LESTE</td>\n",
        "      <td> 1</td>\n",
        "      <td> 1</td>\n",
        "      <td> 2012</td>\n",
        "      <td> 1</td>\n",
        "      <td> 1</td>\n",
        "      <td> 1</td>\n",
        "      <td> 5</td>\n",
        "      <td> -30,112807</td>\n",
        "      <td> -51,109206</td>\n",
        "    </tr>\n",
        "    <tr>\n",
        "      <th>1</th>\n",
        "      <td> 535378</td>\n",
        "      <td>                     R CONDOR</td>\n",
        "      <td>                      NaN</td>\n",
        "      <td>  162</td>\n",
        "      <td> Logradouro</td>\n",
        "      <td> ATROPELAMENTO</td>\n",
        "      <td>                                     162 R CONDOR</td>\n",
        "      <td> 20120101 02:00</td>\n",
        "      <td> DOMINGO</td>\n",
        "      <td> 2</td>\n",
        "      <td> 0</td>\n",
        "      <td> 0</td>\n",
        "      <td> 0</td>\n",
        "      <td> 0</td>\n",
        "      <td> 0</td>\n",
        "      <td> 0</td>\n",
        "      <td> 0</td>\n",
        "      <td> 0</td>\n",
        "      <td> 0</td>\n",
        "      <td> 1</td>\n",
        "      <td> 0</td>\n",
        "      <td> 0</td>\n",
        "      <td> 0</td>\n",
        "      <td> BOM</td>\n",
        "      <td> NOITE</td>\n",
        "      <td> DEPTRAN</td>\n",
        "      <td>    312</td>\n",
        "      <td> LESTE</td>\n",
        "      <td> 1</td>\n",
        "      <td> 1</td>\n",
        "      <td> 2012</td>\n",
        "      <td> 2</td>\n",
        "      <td> 1</td>\n",
        "      <td> 1</td>\n",
        "      <td> 5</td>\n",
        "      <td> -30,068132</td>\n",
        "      <td> -51,171722</td>\n",
        "    </tr>\n",
        "    <tr>\n",
        "      <th>2</th>\n",
        "      <td> 535547</td>\n",
        "      <td>        AV ALBERTO PASQUALINI</td>\n",
        "      <td> R VINTE QUATRO DE AGOSTO</td>\n",
        "      <td>    0</td>\n",
        "      <td> Cruzamento</td>\n",
        "      <td>  ABALROAMENTO</td>\n",
        "      <td> AV ALBERTO PASQUALINI &amp; R VINTE QUATRO DE AGOSTO</td>\n",
        "      <td> 20120101 02:30</td>\n",
        "      <td> DOMINGO</td>\n",
        "      <td> 0</td>\n",
        "      <td> 0</td>\n",
        "      <td> 0</td>\n",
        "      <td> 0</td>\n",
        "      <td> 2</td>\n",
        "      <td> 0</td>\n",
        "      <td> 0</td>\n",
        "      <td> 0</td>\n",
        "      <td> 0</td>\n",
        "      <td> 0</td>\n",
        "      <td> 0</td>\n",
        "      <td> 0</td>\n",
        "      <td> 0</td>\n",
        "      <td> 0</td>\n",
        "      <td> BOM</td>\n",
        "      <td> NOITE</td>\n",
        "      <td>    EPTC</td>\n",
        "      <td> 173189</td>\n",
        "      <td> NORTE</td>\n",
        "      <td> 1</td>\n",
        "      <td> 1</td>\n",
        "      <td> 2012</td>\n",
        "      <td> 2</td>\n",
        "      <td> 1</td>\n",
        "      <td> 0</td>\n",
        "      <td> 1</td>\n",
        "      <td> -30,029229</td>\n",
        "      <td> -51,140224</td>\n",
        "    </tr>\n",
        "    <tr>\n",
        "      <th>3</th>\n",
        "      <td> 535549</td>\n",
        "      <td>                  AV IPIRANGA</td>\n",
        "      <td> AV CEL LUCAS DE OLIVEIRA</td>\n",
        "      <td>    0</td>\n",
        "      <td> Cruzamento</td>\n",
        "      <td>  ABALROAMENTO</td>\n",
        "      <td>           AV CEL LUCAS DE OLIVEIRA &amp; AV IPIRANGA</td>\n",
        "      <td> 20120101 02:50</td>\n",
        "      <td> DOMINGO</td>\n",
        "      <td> 0</td>\n",
        "      <td> 0</td>\n",
        "      <td> 0</td>\n",
        "      <td> 0</td>\n",
        "      <td> 1</td>\n",
        "      <td> 1</td>\n",
        "      <td> 0</td>\n",
        "      <td> 0</td>\n",
        "      <td> 0</td>\n",
        "      <td> 0</td>\n",
        "      <td> 0</td>\n",
        "      <td> 0</td>\n",
        "      <td> 0</td>\n",
        "      <td> 0</td>\n",
        "      <td> BOM</td>\n",
        "      <td> NOITE</td>\n",
        "      <td>    EPTC</td>\n",
        "      <td> 173153</td>\n",
        "      <td> LESTE</td>\n",
        "      <td> 1</td>\n",
        "      <td> 1</td>\n",
        "      <td> 2012</td>\n",
        "      <td> 2</td>\n",
        "      <td> 1</td>\n",
        "      <td> 0</td>\n",
        "      <td> 1</td>\n",
        "      <td> -30,047456</td>\n",
        "      <td> -51,196241</td>\n",
        "    </tr>\n",
        "    <tr>\n",
        "      <th>4</th>\n",
        "      <td> 535564</td>\n",
        "      <td>                AV PERNAMBUCO</td>\n",
        "      <td>                      NaN</td>\n",
        "      <td>  867</td>\n",
        "      <td> Logradouro</td>\n",
        "      <td>       COLISAO</td>\n",
        "      <td>                                867 AV PERNAMBUCO</td>\n",
        "      <td> 20120101 03:00</td>\n",
        "      <td> DOMINGO</td>\n",
        "      <td> 0</td>\n",
        "      <td> 0</td>\n",
        "      <td> 0</td>\n",
        "      <td> 0</td>\n",
        "      <td> 2</td>\n",
        "      <td> 0</td>\n",
        "      <td> 0</td>\n",
        "      <td> 0</td>\n",
        "      <td> 0</td>\n",
        "      <td> 0</td>\n",
        "      <td> 0</td>\n",
        "      <td> 0</td>\n",
        "      <td> 0</td>\n",
        "      <td> 0</td>\n",
        "      <td> BOM</td>\n",
        "      <td> NOITE</td>\n",
        "      <td>    EPTC</td>\n",
        "      <td> 222073</td>\n",
        "      <td> NORTE</td>\n",
        "      <td> 1</td>\n",
        "      <td> 1</td>\n",
        "      <td> 2012</td>\n",
        "      <td> 3</td>\n",
        "      <td> 1</td>\n",
        "      <td> 0</td>\n",
        "      <td> 1</td>\n",
        "      <td> -29,999784</td>\n",
        "      <td> -51,197549</td>\n",
        "    </tr>\n",
        "  </tbody>\n",
        "</table>\n",
        "</div>"
       ],
       "metadata": {},
       "output_type": "pyout",
       "prompt_number": 46,
       "text": [
        "       id                          log1                      log2  predial1  \\\n",
        "0  536036  ESTR JOAO DE OLIVEIRA REMIAO                       NaN      5788   \n",
        "1  535378                      R CONDOR                       NaN       162   \n",
        "2  535547         AV ALBERTO PASQUALINI  R VINTE QUATRO DE AGOSTO         0   \n",
        "3  535549                   AV IPIRANGA  AV CEL LUCAS DE OLIVEIRA         0   \n",
        "4  535564                 AV PERNAMBUCO                       NaN       867   \n",
        "\n",
        "        local  tipo_acidente  \\\n",
        "0  Logradouro   ABALROAMENTO   \n",
        "1  Logradouro  ATROPELAMENTO   \n",
        "2  Cruzamento   ABALROAMENTO   \n",
        "3  Cruzamento   ABALROAMENTO   \n",
        "4  Logradouro        COLISAO   \n",
        "\n",
        "                                          local_via       data_hora  dia_sem  \\\n",
        "0                 5788 ESTR JOAO DE OLIVEIRA REMIAO  20120101 01:00  DOMINGO   \n",
        "1                                      162 R CONDOR  20120101 02:00  DOMINGO   \n",
        "2  AV ALBERTO PASQUALINI & R VINTE QUATRO DE AGOSTO  20120101 02:30  DOMINGO   \n",
        "3            AV CEL LUCAS DE OLIVEIRA & AV IPIRANGA  20120101 02:50  DOMINGO   \n",
        "4                                 867 AV PERNAMBUCO  20120101 03:00  DOMINGO   \n",
        "\n",
        "   feridos  mortes  morte_post  fatais  auto  taxi  lotacao  onibus_urbano  \\\n",
        "0        1       0           0       0     1     0        0              0   \n",
        "1        2       0           0       0     0     0        0              0   \n",
        "2        0       0           0       0     2     0        0              0   \n",
        "3        0       0           0       0     1     1        0              0   \n",
        "4        0       0           0       0     2     0        0              0   \n",
        "\n",
        "   onibus_inter  caminhao  moto  carroca  bicicleta  outro tempo noite_dia  \\\n",
        "0             0         0     1        0          0      0   BOM     NOITE   \n",
        "1             0         0     1        0          0      0   BOM     NOITE   \n",
        "2             0         0     0        0          0      0   BOM     NOITE   \n",
        "3             0         0     0        0          0      0   BOM     NOITE   \n",
        "4             0         0     0        0          0      0   BOM     NOITE   \n",
        "\n",
        "     fonte boletim regiao  dia  mes   ano  fx_hora  cont_acid  cont_vit  ups  \\\n",
        "0  DEPTRAN  _26712  LESTE    1    1  2012        1          1         1    5   \n",
        "1  DEPTRAN     312  LESTE    1    1  2012        2          1         1    5   \n",
        "2     EPTC  173189  NORTE    1    1  2012        2          1         0    1   \n",
        "3     EPTC  173153  LESTE    1    1  2012        2          1         0    1   \n",
        "4     EPTC  222073  NORTE    1    1  2012        3          1         0    1   \n",
        "\n",
        "     latitude   longitude  \n",
        "0  -30,112807  -51,109206  \n",
        "1  -30,068132  -51,171722  \n",
        "2  -30,029229  -51,140224  \n",
        "3  -30,047456  -51,196241  \n",
        "4  -29,999784  -51,197549  "
       ]
      }
     ],
     "prompt_number": 46
    },
    {
     "cell_type": "markdown",
     "metadata": {},
     "source": [
      "pandas possui v\u00e1rias fun\u00e7\u00f5es de leitura com par\u00e2metros que permitem voc\u00ea fazer coisas do tipo pular linhas de um arquivo, parsear datas, ou especificamente lidar com missing data com NA/NULL.\n",
      "\n",
      "H\u00e1 tamb\u00e9m uma s\u00e9rie de fun\u00e7\u00f5es de escrita para escrever em v\u00e1rios formatos (CSV's , tabelas HTML, JSON).  Eles funcionam do jeito que voc\u00ea imagina e s\u00e3o chamados atrav\u00e9s da fun\u00e7\u00e3o to_format:\n",
      "\n",
      "\n",
      "my_dataframe.to_csv('path_to_file.csv')\n",
      "\n",
      "Aproveite para consultar a documenta\u00e7\u00e3o do IO para se familiarizar com a funcionalidade de leitura/escrita."
     ]
    },
    {
     "cell_type": "markdown",
     "metadata": {},
     "source": [
      "####Excel\n",
      "\n",
      "Excel pode ser uma m\u00e3e para muitos, mas quem sabe que quando quer se aprofundar com a planilha VBA pode ser um terror. pandas permite que voc\u00ea leia e escreva arquivos no formato Excel, portanto voc\u00ea pode facilmente ler arquivos Excel, escrever seu c\u00f3digo em Python e escrever de volta no Excel, sem necessidade de VBA.\n",
      "\n",
      "Ler a partir de arquivos Excel requer a biblioteca xlrd, vo\u00ea pode instalar via pip (pip install xlrd).\n",
      "\n",
      "Vamos converter um dataframe para uma planilha Excel."
     ]
    },
    {
     "cell_type": "code",
     "collapsed": false,
     "input": [
      "# this is the DataFrame we created from a dictionary earlier\n",
      "print football.head()"
     ],
     "language": "python",
     "metadata": {},
     "outputs": [
      {
       "output_type": "stream",
       "stream": "stdout",
       "text": [
        "    ano      time  vitorias  derrotas\n",
        "0  2010  Flamengo        11         5\n",
        "1  2011  Flamengo         8         8\n",
        "2  2012  Flamengo        10         6\n",
        "3  2011     Vasco        15         1\n",
        "4  2012     Vasco        11         5\n"
       ]
      }
     ],
     "prompt_number": 47
    },
    {
     "cell_type": "code",
     "collapsed": false,
     "input": [
      "# since our index on the football DataFrame is meaningless, let's not write it\n",
      "football.to_excel('football.xlsx', index=False)"
     ],
     "language": "python",
     "metadata": {},
     "outputs": [],
     "prompt_number": 53
    },
    {
     "cell_type": "code",
     "collapsed": false,
     "input": [
      "!ls -l *.xlsx"
     ],
     "language": "python",
     "metadata": {},
     "outputs": [
      {
       "output_type": "stream",
       "stream": "stdout",
       "text": [
        "-rw-r--r--  1 marcelcaraciolo  staff  5673 Nov 27 16:41 football.xlsx\r\n"
       ]
      }
     ],
     "prompt_number": 54
    },
    {
     "cell_type": "code",
     "collapsed": false,
     "input": [
      "# delete the DataFrame\n",
      "del football"
     ],
     "language": "python",
     "metadata": {},
     "outputs": [],
     "prompt_number": 55
    },
    {
     "cell_type": "code",
     "collapsed": false,
     "input": [
      "# read from Excel\n",
      "football = pd.read_excel('football.xlsx', 'Sheet1')\n",
      "print football"
     ],
     "language": "python",
     "metadata": {},
     "outputs": [
      {
       "output_type": "stream",
       "stream": "stdout",
       "text": [
        "    ano      time  vitorias  derrotas\n",
        "0  2010  Flamengo        11         5\n",
        "1  2011  Flamengo         8         8\n",
        "2  2012  Flamengo        10         6\n",
        "3  2011     Vasco        15         1\n",
        "4  2012     Vasco        11         5\n",
        "5  2010  Cruzeiro         6        10\n",
        "6  2011  Cruzeiro        10         6\n",
        "7  2012  Cruzeiro         4        12\n"
       ]
      }
     ],
     "prompt_number": 57
    },
    {
     "cell_type": "markdown",
     "metadata": {},
     "source": [
      "####Database\n",
      "\n",
      "pandas tamb\u00e9m tem suporte para leitura/escrita de DataFrames a partir de banco de dados. Voc\u00ea s\u00f3 preicsa passar o objeto de conex\u00e3o com o banc para a fun\u00e7\u00e3o read_frame ou write_frame no m\u00f3dulo pandas.io\n",
      "\n",
      "Note que write_frame executa uma s\u00e9rie de comandos INSERT INTO, portanto sacrifica velocidade por simplicidade. Se voc\u00ea est\u00e1 pensando escrever um Dataframe de grande volume em um banco de dados, pode ser mais r\u00e1pido escrever o DataFrame para um CSV e depois carreg\u00e1-lo direto no banco de dados por meio de comandos espec\u00edficos de inporta\u00e7\u00e3o do banco."
     ]
    },
    {
     "cell_type": "code",
     "collapsed": false,
     "input": [
      "from pandas.io import sql\n",
      "import sqlite3\n",
      "\n",
      "conn = sqlite3.connect('simple.db')\n",
      "query = \"SELECT * FROM albums WHERE artist='Red';\"\n",
      "\n",
      "results = sql.read_frame(query, con=conn)\n",
      "print results.head()"
     ],
     "language": "python",
     "metadata": {},
     "outputs": [
      {
       "output_type": "stream",
       "stream": "stdout",
       "text": [
        "                 title artist release_date          publisher media_type\n",
        "0  Until We Have Faces    Red     2/1/2011  Essential Records         CD\n"
       ]
      }
     ],
     "prompt_number": 62
    },
    {
     "cell_type": "markdown",
     "metadata": {},
     "source": [
      "####Clipboard\n",
      "\n",
      "Enquanto os resultados de uma query podem ser convertidos para um DataFrame, outra op\u00e7\u00e3o \u00e9 copiar os resultados diretamente do clipboard. Voc\u00ea tem uma p\u00e1gina web com dados delimitados, ent\u00e3o voc\u00ea pode copiar para seu clipboard e colar direto no seu DataFrame. A fun\u00e7\u00e3o realiza um bom trabalho identificando qual \u00e9 o delimitador, mas voc\u00ea pode usar o par\u00e2metro sep para ser explicito."
     ]
    },
    {
     "cell_type": "code",
     "collapsed": false,
     "input": [
      "Image(url='http://i.imgur.com/xiySJ2e.png')"
     ],
     "language": "python",
     "metadata": {},
     "outputs": [
      {
       "html": [
        "<img src=\"http://i.imgur.com/xiySJ2e.png\"/>"
       ],
       "metadata": {},
       "output_type": "pyout",
       "prompt_number": 63,
       "text": [
        "<IPython.core.display.Image at 0x1156ca410>"
       ]
      }
     ],
     "prompt_number": 63
    },
    {
     "cell_type": "code",
     "collapsed": false,
     "input": [
      "#http://www.baseball-reference.com/players/a/aaronha01.shtml\n",
      "hank = pd.read_clipboard()\n",
      "hank.head()"
     ],
     "language": "python",
     "metadata": {},
     "outputs": [
      {
       "html": [
        "<div style=\"max-height:1000px;max-width:1500px;overflow:auto;\">\n",
        "<table border=\"1\" class=\"dataframe\">\n",
        "  <thead>\n",
        "    <tr style=\"text-align: right;\">\n",
        "      <th></th>\n",
        "      <th>Year</th>\n",
        "      <th>Age</th>\n",
        "      <th>Tm</th>\n",
        "      <th>Lg</th>\n",
        "      <th>G</th>\n",
        "      <th>PA</th>\n",
        "      <th>AB</th>\n",
        "      <th>R</th>\n",
        "      <th>H</th>\n",
        "      <th>2B</th>\n",
        "      <th>3B</th>\n",
        "      <th>HR</th>\n",
        "      <th>RBI</th>\n",
        "      <th>SB</th>\n",
        "      <th>CS</th>\n",
        "      <th>BB</th>\n",
        "      <th>SO</th>\n",
        "      <th>BA</th>\n",
        "      <th>OBP</th>\n",
        "      <th>SLG</th>\n",
        "      <th>OPS</th>\n",
        "      <th>OPS+</th>\n",
        "      <th>TB</th>\n",
        "      <th>GDP</th>\n",
        "      <th>HBP</th>\n",
        "      <th>SH</th>\n",
        "      <th>SF</th>\n",
        "      <th>IBB</th>\n",
        "      <th>Pos</th>\n",
        "      <th>Awards</th>\n",
        "    </tr>\n",
        "  </thead>\n",
        "  <tbody>\n",
        "    <tr>\n",
        "      <th>0</th>\n",
        "      <td> 1954</td>\n",
        "      <td> 20</td>\n",
        "      <td> MLN</td>\n",
        "      <td> NL</td>\n",
        "      <td> 122</td>\n",
        "      <td> 509</td>\n",
        "      <td> 468</td>\n",
        "      <td>  58</td>\n",
        "      <td> 131</td>\n",
        "      <td> 27</td>\n",
        "      <td>  6</td>\n",
        "      <td> 13</td>\n",
        "      <td>  69</td>\n",
        "      <td> 2</td>\n",
        "      <td> 2</td>\n",
        "      <td> 28</td>\n",
        "      <td> 39</td>\n",
        "      <td> 0.280</td>\n",
        "      <td> 0.322</td>\n",
        "      <td> 0.447</td>\n",
        "      <td> 0.769</td>\n",
        "      <td> 104</td>\n",
        "      <td> 209</td>\n",
        "      <td> 13</td>\n",
        "      <td> 3</td>\n",
        "      <td> 6</td>\n",
        "      <td> 4</td>\n",
        "      <td> *79</td>\n",
        "      <td> RoY-4</td>\n",
        "      <td>        None</td>\n",
        "    </tr>\n",
        "    <tr>\n",
        "      <th>1</th>\n",
        "      <td> 1955</td>\n",
        "      <td> 21</td>\n",
        "      <td> MLN</td>\n",
        "      <td> NL</td>\n",
        "      <td> 153</td>\n",
        "      <td> 665</td>\n",
        "      <td> 602</td>\n",
        "      <td> 105</td>\n",
        "      <td> 189</td>\n",
        "      <td> 37</td>\n",
        "      <td>  9</td>\n",
        "      <td> 27</td>\n",
        "      <td> 106</td>\n",
        "      <td> 3</td>\n",
        "      <td> 1</td>\n",
        "      <td> 49</td>\n",
        "      <td> 61</td>\n",
        "      <td> 0.314</td>\n",
        "      <td> 0.366</td>\n",
        "      <td> 0.540</td>\n",
        "      <td> 0.906</td>\n",
        "      <td> 141</td>\n",
        "      <td> 325</td>\n",
        "      <td> 20</td>\n",
        "      <td> 3</td>\n",
        "      <td> 7</td>\n",
        "      <td> 4</td>\n",
        "      <td>   5</td>\n",
        "      <td>  *974</td>\n",
        "      <td>    AS,MVP-9</td>\n",
        "    </tr>\n",
        "    <tr>\n",
        "      <th>2</th>\n",
        "      <td> 1956</td>\n",
        "      <td> 22</td>\n",
        "      <td> MLN</td>\n",
        "      <td> NL</td>\n",
        "      <td> 153</td>\n",
        "      <td> 660</td>\n",
        "      <td> 609</td>\n",
        "      <td> 106</td>\n",
        "      <td> 200</td>\n",
        "      <td> 34</td>\n",
        "      <td> 14</td>\n",
        "      <td> 26</td>\n",
        "      <td>  92</td>\n",
        "      <td> 2</td>\n",
        "      <td> 4</td>\n",
        "      <td> 37</td>\n",
        "      <td> 54</td>\n",
        "      <td> 0.328</td>\n",
        "      <td> 0.365</td>\n",
        "      <td> 0.558</td>\n",
        "      <td> 0.923</td>\n",
        "      <td> 151</td>\n",
        "      <td> 340</td>\n",
        "      <td> 21</td>\n",
        "      <td> 2</td>\n",
        "      <td> 5</td>\n",
        "      <td> 7</td>\n",
        "      <td>   6</td>\n",
        "      <td>    *9</td>\n",
        "      <td>    AS,MVP-3</td>\n",
        "    </tr>\n",
        "    <tr>\n",
        "      <th>3</th>\n",
        "      <td> 1957</td>\n",
        "      <td> 23</td>\n",
        "      <td> MLN</td>\n",
        "      <td> NL</td>\n",
        "      <td> 151</td>\n",
        "      <td> 675</td>\n",
        "      <td> 615</td>\n",
        "      <td> 118</td>\n",
        "      <td> 198</td>\n",
        "      <td> 27</td>\n",
        "      <td>  6</td>\n",
        "      <td> 44</td>\n",
        "      <td> 132</td>\n",
        "      <td> 1</td>\n",
        "      <td> 1</td>\n",
        "      <td> 57</td>\n",
        "      <td> 58</td>\n",
        "      <td> 0.322</td>\n",
        "      <td> 0.378</td>\n",
        "      <td> 0.600</td>\n",
        "      <td> 0.978</td>\n",
        "      <td> 166</td>\n",
        "      <td> 369</td>\n",
        "      <td> 13</td>\n",
        "      <td> 0</td>\n",
        "      <td> 0</td>\n",
        "      <td> 3</td>\n",
        "      <td>  15</td>\n",
        "      <td>   *98</td>\n",
        "      <td>    AS,MVP-1</td>\n",
        "    </tr>\n",
        "    <tr>\n",
        "      <th>4</th>\n",
        "      <td> 1958</td>\n",
        "      <td> 24</td>\n",
        "      <td> MLN</td>\n",
        "      <td> NL</td>\n",
        "      <td> 153</td>\n",
        "      <td> 664</td>\n",
        "      <td> 601</td>\n",
        "      <td> 109</td>\n",
        "      <td> 196</td>\n",
        "      <td> 34</td>\n",
        "      <td>  4</td>\n",
        "      <td> 30</td>\n",
        "      <td>  95</td>\n",
        "      <td> 4</td>\n",
        "      <td> 1</td>\n",
        "      <td> 59</td>\n",
        "      <td> 49</td>\n",
        "      <td> 0.326</td>\n",
        "      <td> 0.386</td>\n",
        "      <td> 0.546</td>\n",
        "      <td> 0.931</td>\n",
        "      <td> 152</td>\n",
        "      <td> 328</td>\n",
        "      <td> 21</td>\n",
        "      <td> 1</td>\n",
        "      <td> 0</td>\n",
        "      <td> 3</td>\n",
        "      <td>  16</td>\n",
        "      <td>   *98</td>\n",
        "      <td> AS,MVP-3,GG</td>\n",
        "    </tr>\n",
        "  </tbody>\n",
        "</table>\n",
        "</div>"
       ],
       "metadata": {},
       "output_type": "pyout",
       "prompt_number": 65,
       "text": [
        "   Year  Age   Tm  Lg    G   PA   AB    R    H  2B  3B  HR  RBI  SB  CS  BB  \\\n",
        "0  1954   20  MLN  NL  122  509  468   58  131  27   6  13   69   2   2  28   \n",
        "1  1955   21  MLN  NL  153  665  602  105  189  37   9  27  106   3   1  49   \n",
        "2  1956   22  MLN  NL  153  660  609  106  200  34  14  26   92   2   4  37   \n",
        "3  1957   23  MLN  NL  151  675  615  118  198  27   6  44  132   1   1  57   \n",
        "4  1958   24  MLN  NL  153  664  601  109  196  34   4  30   95   4   1  59   \n",
        "\n",
        "   SO     BA    OBP    SLG    OPS  OPS+   TB  GDP  HBP  SH  SF  IBB    Pos  \\\n",
        "0  39  0.280  0.322  0.447  0.769   104  209   13    3   6   4  *79  RoY-4   \n",
        "1  61  0.314  0.366  0.540  0.906   141  325   20    3   7   4    5   *974   \n",
        "2  54  0.328  0.365  0.558  0.923   151  340   21    2   5   7    6     *9   \n",
        "3  58  0.322  0.378  0.600  0.978   166  369   13    0   0   3   15    *98   \n",
        "4  49  0.326  0.386  0.546  0.931   152  328   21    1   0   3   16    *98   \n",
        "\n",
        "        Awards  \n",
        "0         None  \n",
        "1     AS,MVP-9  \n",
        "2     AS,MVP-3  \n",
        "3     AS,MVP-1  \n",
        "4  AS,MVP-3,GG  "
       ]
      }
     ],
     "prompt_number": 65
    },
    {
     "cell_type": "markdown",
     "metadata": {},
     "source": [
      "####URL\n",
      "\n",
      "N\u00f3s tamb\u00e9m podemos usar a biblioteca StringIO de Python para ler diretamente dados de uma URL. StringIO permite tratar uma string como um objeto do tipo arquivo. "
     ]
    },
    {
     "cell_type": "code",
     "collapsed": false,
     "input": [
      "from urllib2 import urlopen\n",
      "from StringIO import StringIO\n",
      "\n",
      "# store the text from the URL response in our url variable\n",
      "url = urlopen('https://raw.github.com/gjreda/best-sandwiches/master/data/best-sandwiches-geocode.tsv').read()\n",
      "\n",
      "# treat the tab-separated text as a file with StringIO and read it into a DataFrame\n",
      "from_url = pd.read_table(StringIO(url), sep='\\t')\n",
      "from_url.head(3)"
     ],
     "language": "python",
     "metadata": {},
     "outputs": [
      {
       "html": [
        "<div style=\"max-height:1000px;max-width:1500px;overflow:auto;\">\n",
        "<table border=\"1\" class=\"dataframe\">\n",
        "  <thead>\n",
        "    <tr style=\"text-align: right;\">\n",
        "      <th></th>\n",
        "      <th>rank</th>\n",
        "      <th>sandwich</th>\n",
        "      <th>restaurant</th>\n",
        "      <th>description</th>\n",
        "      <th>price</th>\n",
        "      <th>address</th>\n",
        "      <th>city</th>\n",
        "      <th>phone</th>\n",
        "      <th>website</th>\n",
        "      <th>full_address</th>\n",
        "      <th>formatted_address</th>\n",
        "      <th>lat</th>\n",
        "      <th>lng</th>\n",
        "    </tr>\n",
        "  </thead>\n",
        "  <tbody>\n",
        "    <tr>\n",
        "      <th>0</th>\n",
        "      <td> 1</td>\n",
        "      <td>               BLT</td>\n",
        "      <td> Old Oak Tap</td>\n",
        "      <td> The B is applewood smoked&amp;mdash;nice and snapp...</td>\n",
        "      <td>    $10</td>\n",
        "      <td> 2109 W. Chicago Ave.</td>\n",
        "      <td> Chicago</td>\n",
        "      <td> 773-772-0406</td>\n",
        "      <td>    theoldoaktap.com</td>\n",
        "      <td> 2109 W. Chicago Ave., Chicago</td>\n",
        "      <td> 2109 West Chicago Avenue, Chicago, IL 60622, USA</td>\n",
        "      <td> 41.895734</td>\n",
        "      <td>-87.679960</td>\n",
        "    </tr>\n",
        "    <tr>\n",
        "      <th>1</th>\n",
        "      <td> 2</td>\n",
        "      <td>     Fried Bologna</td>\n",
        "      <td>   Au Cheval</td>\n",
        "      <td> Thought your bologna-eating days had retired w...</td>\n",
        "      <td>     $9</td>\n",
        "      <td>  800 W. Randolph St.</td>\n",
        "      <td> Chicago</td>\n",
        "      <td> 312-929-4580</td>\n",
        "      <td> aucheval.tumblr.com</td>\n",
        "      <td>  800 W. Randolph St., Chicago</td>\n",
        "      <td> 800 West Randolph Street, Chicago, IL 60607, USA</td>\n",
        "      <td> 41.884672</td>\n",
        "      <td>-87.647754</td>\n",
        "    </tr>\n",
        "    <tr>\n",
        "      <th>2</th>\n",
        "      <td> 3</td>\n",
        "      <td> Woodland Mushroom</td>\n",
        "      <td>        Xoco</td>\n",
        "      <td> Leave it to Rick Bayless and crew to come up w...</td>\n",
        "      <td> $9.50.</td>\n",
        "      <td>     445 N. Clark St.</td>\n",
        "      <td> Chicago</td>\n",
        "      <td> 312-334-3688</td>\n",
        "      <td>     rickbayless.com</td>\n",
        "      <td>     445 N. Clark St., Chicago</td>\n",
        "      <td>   445 North Clark Street, Chicago, IL 60654, USA</td>\n",
        "      <td> 41.890602</td>\n",
        "      <td>-87.630925</td>\n",
        "    </tr>\n",
        "  </tbody>\n",
        "</table>\n",
        "</div>"
       ],
       "metadata": {},
       "output_type": "pyout",
       "prompt_number": 66,
       "text": [
        "   rank           sandwich   restaurant  \\\n",
        "0     1                BLT  Old Oak Tap   \n",
        "1     2      Fried Bologna    Au Cheval   \n",
        "2     3  Woodland Mushroom         Xoco   \n",
        "\n",
        "                                         description   price  \\\n",
        "0  The B is applewood smoked&mdash;nice and snapp...     $10   \n",
        "1  Thought your bologna-eating days had retired w...      $9   \n",
        "2  Leave it to Rick Bayless and crew to come up w...  $9.50.   \n",
        "\n",
        "                address     city         phone              website  \\\n",
        "0  2109 W. Chicago Ave.  Chicago  773-772-0406     theoldoaktap.com   \n",
        "1   800 W. Randolph St.  Chicago  312-929-4580  aucheval.tumblr.com   \n",
        "2      445 N. Clark St.  Chicago  312-334-3688      rickbayless.com   \n",
        "\n",
        "                    full_address  \\\n",
        "0  2109 W. Chicago Ave., Chicago   \n",
        "1   800 W. Randolph St., Chicago   \n",
        "2      445 N. Clark St., Chicago   \n",
        "\n",
        "                                  formatted_address        lat        lng  \n",
        "0  2109 West Chicago Avenue, Chicago, IL 60622, USA  41.895734 -87.679960  \n",
        "1  800 West Randolph Street, Chicago, IL 60607, USA  41.884672 -87.647754  \n",
        "2    445 North Clark Street, Chicago, IL 60654, USA  41.890602 -87.630925  "
       ]
      }
     ],
     "prompt_number": 66
    },
    {
     "cell_type": "markdown",
     "metadata": {},
     "source": [
      "####Google Analytics\n",
      "\n",
      "Isto \u00e9 apenas o come\u00e7o , ele pode at\u00e9 ler dados de API do Google Analytics, claro com algumas configura\u00e7\u00f5es necess\u00e1rias.\n",
      "\n",
      "http://blog.yhathq.com/posts/pandas-google-analytics.html"
     ]
    },
    {
     "cell_type": "code",
     "collapsed": false,
     "input": [
      "Image(url='http://blog.yhathq.com/static/img/google_analytics/google_analytics_series.png')"
     ],
     "language": "python",
     "metadata": {},
     "outputs": [
      {
       "html": [
        "<img src=\"http://blog.yhathq.com/static/img/google_analytics/google_analytics_series.png\"/>"
       ],
       "metadata": {},
       "output_type": "pyout",
       "prompt_number": 67,
       "text": [
        "<IPython.core.display.Image at 0x1156d3590>"
       ]
      }
     ],
     "prompt_number": 67
    },
    {
     "cell_type": "code",
     "collapsed": false,
     "input": [],
     "language": "python",
     "metadata": {},
     "outputs": []
    }
   ],
   "metadata": {}
  }
 ]
}