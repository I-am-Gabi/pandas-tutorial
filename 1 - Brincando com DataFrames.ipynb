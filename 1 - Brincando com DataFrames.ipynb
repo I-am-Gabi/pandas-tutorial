{
 "metadata": {
  "name": ""
 },
 "nbformat": 3,
 "nbformat_minor": 0,
 "worksheets": [
  {
   "cells": [
    {
     "cell_type": "markdown",
     "metadata": {},
     "source": [
      "#Conhecendo o DataFrame\n",
      "\n",
      "Agora que conhecemos o DataFrame, vamos apresentar o potencial que o pandas oferece com esta ferramenta. Lembrando que este \u00e9 apenas um pequeno tutorial, h\u00e1 j\u00e1 at\u00e9 um livro lan\u00e7ado pela O'reilly pelo pr\u00f3prio autor da biblioteca Wes McKinney com vasta documenta\u00e7\u00e3o sobre ele.\n",
      "\n",
      "Nos pr\u00f3ximos exemplos vamos usar a base de dados MovieLens. Ela \u00e9 uma base com 100,000 avalia\u00e7\u00f5es de 943 usu\u00e1rios em 1,682 filmes de 1 a 5 estrelas."
     ]
    },
    {
     "cell_type": "code",
     "collapsed": false,
     "input": [
      "import pandas as pd\n",
      "import numpy as np\n",
      "import matplotlib.pyplot as plt\n",
      "pd.set_option('max_columns', 50)"
     ],
     "language": "python",
     "metadata": {},
     "outputs": [],
     "prompt_number": 2
    },
    {
     "cell_type": "code",
     "collapsed": false,
     "input": [
      "# pass in column names for each CSV\n",
      "u_cols = ['user_id', 'age', 'sex', 'occupation', 'zip_code']\n",
      "users = pd.read_csv('ml-100k/u.user', sep='|', names=u_cols)"
     ],
     "language": "python",
     "metadata": {},
     "outputs": [],
     "prompt_number": 3
    },
    {
     "cell_type": "code",
     "collapsed": false,
     "input": [
      "r_cols = ['user_id', 'movie_id', 'rating', 'unix_timestamp']\n",
      "ratings = pd.read_csv('ml-100k/u.data', sep='\\t', names=r_cols)"
     ],
     "language": "python",
     "metadata": {},
     "outputs": [],
     "prompt_number": 4
    },
    {
     "cell_type": "code",
     "collapsed": false,
     "input": [
      "# the movies file contains columns indicating the movie's genres\n",
      "# let's only load the first five columns of the file with usecols\n",
      "m_cols = ['movie_id', 'title', 'release_date', 'video_release_date', 'imdb_url']\n",
      "movies = pd.read_csv('ml-100k/u.item', sep='|', usecols=range(5))\n",
      "movies.columns = m_cols"
     ],
     "language": "python",
     "metadata": {},
     "outputs": [],
     "prompt_number": 20
    },
    {
     "cell_type": "code",
     "collapsed": false,
     "input": [
      "movies.head()"
     ],
     "language": "python",
     "metadata": {},
     "outputs": [
      {
       "html": [
        "<div style=\"max-height:1000px;max-width:1500px;overflow:auto;\">\n",
        "<table border=\"1\" class=\"dataframe\">\n",
        "  <thead>\n",
        "    <tr style=\"text-align: right;\">\n",
        "      <th></th>\n",
        "      <th>movie_id</th>\n",
        "      <th>title</th>\n",
        "      <th>release_date</th>\n",
        "      <th>video_release_date</th>\n",
        "      <th>imdb_url</th>\n",
        "    </tr>\n",
        "  </thead>\n",
        "  <tbody>\n",
        "    <tr>\n",
        "      <th>0</th>\n",
        "      <td> 2</td>\n",
        "      <td>                                  GoldenEye (1995)</td>\n",
        "      <td> 01-Jan-1995</td>\n",
        "      <td>NaN</td>\n",
        "      <td> http://us.imdb.com/M/title-exact?GoldenEye%20(...</td>\n",
        "    </tr>\n",
        "    <tr>\n",
        "      <th>1</th>\n",
        "      <td> 3</td>\n",
        "      <td>                                 Four Rooms (1995)</td>\n",
        "      <td> 01-Jan-1995</td>\n",
        "      <td>NaN</td>\n",
        "      <td> http://us.imdb.com/M/title-exact?Four%20Rooms%...</td>\n",
        "    </tr>\n",
        "    <tr>\n",
        "      <th>2</th>\n",
        "      <td> 4</td>\n",
        "      <td>                                 Get Shorty (1995)</td>\n",
        "      <td> 01-Jan-1995</td>\n",
        "      <td>NaN</td>\n",
        "      <td> http://us.imdb.com/M/title-exact?Get%20Shorty%...</td>\n",
        "    </tr>\n",
        "    <tr>\n",
        "      <th>3</th>\n",
        "      <td> 5</td>\n",
        "      <td>                                    Copycat (1995)</td>\n",
        "      <td> 01-Jan-1995</td>\n",
        "      <td>NaN</td>\n",
        "      <td> http://us.imdb.com/M/title-exact?Copycat%20(1995)</td>\n",
        "    </tr>\n",
        "    <tr>\n",
        "      <th>4</th>\n",
        "      <td> 6</td>\n",
        "      <td> Shanghai Triad (Yao a yao yao dao waipo qiao) ...</td>\n",
        "      <td> 01-Jan-1995</td>\n",
        "      <td>NaN</td>\n",
        "      <td> http://us.imdb.com/Title?Yao+a+yao+yao+dao+wai...</td>\n",
        "    </tr>\n",
        "  </tbody>\n",
        "</table>\n",
        "</div>"
       ],
       "metadata": {},
       "output_type": "pyout",
       "prompt_number": 21,
       "text": [
        "   movie_id                                              title release_date  \\\n",
        "0         2                                   GoldenEye (1995)  01-Jan-1995   \n",
        "1         3                                  Four Rooms (1995)  01-Jan-1995   \n",
        "2         4                                  Get Shorty (1995)  01-Jan-1995   \n",
        "3         5                                     Copycat (1995)  01-Jan-1995   \n",
        "4         6  Shanghai Triad (Yao a yao yao dao waipo qiao) ...  01-Jan-1995   \n",
        "\n",
        "   video_release_date                                           imdb_url  \n",
        "0                 NaN  http://us.imdb.com/M/title-exact?GoldenEye%20(...  \n",
        "1                 NaN  http://us.imdb.com/M/title-exact?Four%20Rooms%...  \n",
        "2                 NaN  http://us.imdb.com/M/title-exact?Get%20Shorty%...  \n",
        "3                 NaN  http://us.imdb.com/M/title-exact?Copycat%20(1995)  \n",
        "4                 NaN  http://us.imdb.com/Title?Yao+a+yao+yao+dao+wai...  "
       ]
      }
     ],
     "prompt_number": 21
    },
    {
     "cell_type": "markdown",
     "metadata": {},
     "source": [
      "##Inspection\n",
      "\n",
      "pandas tem uma variedade de fun\u00e7\u00f5es para obter informa\u00e7\u00f5es b\u00e1sicas sobre seu DataFrame, que s\u00e3o exibidas apenas imprimindo pelo r\u00f3tulo da vari\u00e1vel."
     ]
    },
    {
     "cell_type": "code",
     "collapsed": false,
     "input": [
      "movies"
     ],
     "language": "python",
     "metadata": {},
     "outputs": [
      {
       "html": [
        "<pre>\n",
        "&lt;class 'pandas.core.frame.DataFrame'&gt;\n",
        "Int64Index: 1681 entries, 0 to 1680\n",
        "Data columns (total 5 columns):\n",
        "movie_id              1681  non-null values\n",
        "title                 1681  non-null values\n",
        "release_date          1680  non-null values\n",
        "video_release_date    0  non-null values\n",
        "imdb_url              1678  non-null values\n",
        "dtypes: float64(1), int64(1), object(3)\n",
        "</pre>"
       ],
       "metadata": {},
       "output_type": "pyout",
       "prompt_number": 22,
       "text": [
        "<class 'pandas.core.frame.DataFrame'>\n",
        "Int64Index: 1681 entries, 0 to 1680\n",
        "Data columns (total 5 columns):\n",
        "movie_id              1681  non-null values\n",
        "title                 1681  non-null values\n",
        "release_date          1680  non-null values\n",
        "video_release_date    0  non-null values\n",
        "imdb_url              1678  non-null values\n",
        "dtypes: float64(1), int64(1), object(3)"
       ]
      }
     ],
     "prompt_number": 22
    },
    {
     "cell_type": "markdown",
     "metadata": {},
     "source": [
      "A sa\u00edda te dar v\u00e1rias informa\u00e7\u00f5es sobre o Dataframe.\n",
      "\n",
      "1. Inst\u00e2ncia de DataFrame\n",
      "\n",
      "2. Cada linha foi atribuida \u00e0 um \u00edndice de 0 at\u00e9 N-1. onde N \u00e9 o n\u00famero de linhas no DataFrame, pandas ir\u00e1 fazer isto por default se um \u00edndice n\u00e3o for especificado. N\u00e3o se preocupe que podemos alterar isto depois.\n",
      "\n",
      "3. H\u00e1 1682 linhas (toda linha tem que possuir um \u00edndice).\n",
      "\n",
      "4. Nossa base de dados possui 5 colunas ao total, uma delas n\u00e3o est\u00e1 populada (video_release_date) e 2 delas tem missing data (release_date e imdb_url)\n",
      "\n",
      "5. A \u00faltima linha informa quais datatypes de cada coluna, mas n\u00e3o necessariamente na ordem correspondente que a listagem das colunas, Voc\u00ea pode usar o m\u00e9todo dtypes para saber o tipo de dados de cada coluna."
     ]
    },
    {
     "cell_type": "code",
     "collapsed": false,
     "input": [
      "movies.dtypes"
     ],
     "language": "python",
     "metadata": {},
     "outputs": [
      {
       "metadata": {},
       "output_type": "pyout",
       "prompt_number": 23,
       "text": [
        "movie_id                int64\n",
        "title                  object\n",
        "release_date           object\n",
        "video_release_date    float64\n",
        "imdb_url               object\n",
        "dtype: object"
       ]
      }
     ],
     "prompt_number": 23
    },
    {
     "cell_type": "markdown",
     "metadata": {},
     "source": [
      "DataFrame tamb\u00e9m possui um m\u00e9todo describe que informa estat\u00edsticas b\u00e1sicas sobre os seus dados num\u00e9ricos. Tenha apenas cuidado pois isto apenas funciona em colunas que possuem tipos num\u00e9ricos."
     ]
    },
    {
     "cell_type": "code",
     "collapsed": false,
     "input": [
      "users.describe()"
     ],
     "language": "python",
     "metadata": {},
     "outputs": [
      {
       "html": [
        "<div style=\"max-height:1000px;max-width:1500px;overflow:auto;\">\n",
        "<table border=\"1\" class=\"dataframe\">\n",
        "  <thead>\n",
        "    <tr style=\"text-align: right;\">\n",
        "      <th></th>\n",
        "      <th>user_id</th>\n",
        "      <th>age</th>\n",
        "    </tr>\n",
        "  </thead>\n",
        "  <tbody>\n",
        "    <tr>\n",
        "      <th>count</th>\n",
        "      <td> 943.000000</td>\n",
        "      <td> 943.000000</td>\n",
        "    </tr>\n",
        "    <tr>\n",
        "      <th>mean</th>\n",
        "      <td> 472.000000</td>\n",
        "      <td>  34.051962</td>\n",
        "    </tr>\n",
        "    <tr>\n",
        "      <th>std</th>\n",
        "      <td> 272.364951</td>\n",
        "      <td>  12.192740</td>\n",
        "    </tr>\n",
        "    <tr>\n",
        "      <th>min</th>\n",
        "      <td>   1.000000</td>\n",
        "      <td>   7.000000</td>\n",
        "    </tr>\n",
        "    <tr>\n",
        "      <th>25%</th>\n",
        "      <td> 236.500000</td>\n",
        "      <td>  25.000000</td>\n",
        "    </tr>\n",
        "    <tr>\n",
        "      <th>50%</th>\n",
        "      <td> 472.000000</td>\n",
        "      <td>  31.000000</td>\n",
        "    </tr>\n",
        "    <tr>\n",
        "      <th>75%</th>\n",
        "      <td> 707.500000</td>\n",
        "      <td>  43.000000</td>\n",
        "    </tr>\n",
        "    <tr>\n",
        "      <th>max</th>\n",
        "      <td> 943.000000</td>\n",
        "      <td>  73.000000</td>\n",
        "    </tr>\n",
        "  </tbody>\n",
        "</table>\n",
        "</div>"
       ],
       "metadata": {},
       "output_type": "pyout",
       "prompt_number": 24,
       "text": [
        "          user_id         age\n",
        "count  943.000000  943.000000\n",
        "mean   472.000000   34.051962\n",
        "std    272.364951   12.192740\n",
        "min      1.000000    7.000000\n",
        "25%    236.500000   25.000000\n",
        "50%    472.000000   31.000000\n",
        "75%    707.500000   43.000000\n",
        "max    943.000000   73.000000"
       ]
      }
     ],
     "prompt_number": 24
    },
    {
     "cell_type": "markdown",
     "metadata": {},
     "source": [
      "Perceba que user_id foi inclu\u00eddo j\u00e1 que \u00e9 do tipo n\u00famerico. Mas como \u00e9 um valor de identifica\u00e7\u00e3o \u00fanico para cada usu\u00e1rio, as suas estat\u00edsticas s\u00e3o desprez\u00edveis.\n",
      "\n",
      "Primeiro Insight!\n",
      "\n",
      "Podemos perceber que a idade m\u00e9dia dos nossos usu\u00e1rios \u00e9 acima dos 34 anos, com o mais novo tendo 7 anos e o mais velho tendo 73 anos. A mediana \u00e9 de 31 anos com o primeiro quartil dos usu\u00e1rios com 25 anos ou mais novos e o quartil mais velho sendo no m\u00e1ximo 43 anos."
     ]
    },
    {
     "cell_type": "markdown",
     "metadata": {},
     "source": [
      "Voc\u00ea percebeu que eu uso m\u00e9todo head sempre que poss\u00edvel, ele por padr\u00e3o, apresenta as 4 primeiras linhas da base de dados, j\u00e1 o tail as 5 \u00faltimas."
     ]
    },
    {
     "cell_type": "code",
     "collapsed": false,
     "input": [
      "print movies.head()"
     ],
     "language": "python",
     "metadata": {},
     "outputs": [
      {
       "output_type": "stream",
       "stream": "stdout",
       "text": [
        "   movie_id                                              title release_date  \\\n",
        "0         2                                   GoldenEye (1995)  01-Jan-1995   \n",
        "1         3                                  Four Rooms (1995)  01-Jan-1995   \n",
        "2         4                                  Get Shorty (1995)  01-Jan-1995   \n",
        "3         5                                     Copycat (1995)  01-Jan-1995   \n",
        "4         6  Shanghai Triad (Yao a yao yao dao waipo qiao) ...  01-Jan-1995   \n",
        "\n",
        "   video_release_date                                           imdb_url  \n",
        "0                 NaN  http://us.imdb.com/M/title-exact?GoldenEye%20(...  \n",
        "1                 NaN  http://us.imdb.com/M/title-exact?Four%20Rooms%...  \n",
        "2                 NaN  http://us.imdb.com/M/title-exact?Get%20Shorty%...  \n",
        "3                 NaN  http://us.imdb.com/M/title-exact?Copycat%20(1995)  \n",
        "4                 NaN  http://us.imdb.com/Title?Yao+a+yao+yao+dao+wai...  \n"
       ]
      }
     ],
     "prompt_number": 25
    },
    {
     "cell_type": "code",
     "collapsed": false,
     "input": [
      "print movies.tail(3)"
     ],
     "language": "python",
     "metadata": {},
     "outputs": [
      {
       "output_type": "stream",
       "stream": "stdout",
       "text": [
        "      movie_id                                      title release_date  \\\n",
        "1678      1680                       Sliding Doors (1998)  01-Jan-1998   \n",
        "1679      1681                        You So Crazy (1994)  01-Jan-1994   \n",
        "1680      1682  Scream of Stone (Schrei aus Stein) (1991)  08-Mar-1996   \n",
        "\n",
        "      video_release_date                                           imdb_url  \n",
        "1678                 NaN      http://us.imdb.com/Title?Sliding+Doors+(1998)  \n",
        "1679                 NaN  http://us.imdb.com/M/title-exact?You%20So%20Cr...  \n",
        "1680                 NaN  http://us.imdb.com/M/title-exact?Schrei%20aus%...  \n"
       ]
      }
     ],
     "prompt_number": 26
    },
    {
     "cell_type": "markdown",
     "metadata": {},
     "source": [
      "Outra alternativa \u00e9 checar a sintaxe de slicing de Python que funciona muito bem em pandas."
     ]
    },
    {
     "cell_type": "code",
     "collapsed": false,
     "input": [
      "print movies[20:22]"
     ],
     "language": "python",
     "metadata": {},
     "outputs": [
      {
       "output_type": "stream",
       "stream": "stdout",
       "text": [
        "    movie_id               title release_date  video_release_date  \\\n",
        "20        22   Braveheart (1995)  16-Feb-1996                 NaN   \n",
        "21        23  Taxi Driver (1976)  16-Feb-1996                 NaN   \n",
        "\n",
        "                                             imdb_url  \n",
        "20  http://us.imdb.com/M/title-exact?Braveheart%20...  \n",
        "21  http://us.imdb.com/M/title-exact?Taxi%20Driver...  \n"
       ]
      }
     ],
     "prompt_number": 27
    },
    {
     "cell_type": "markdown",
     "metadata": {},
     "source": [
      "##Selection\n",
      "\n",
      "Voc\u00ea pode imaginar que um DataFrame \u00e9 um conjunto de Series que compartilham do mesmo \u00edndice (neste caso os t\u00edtulos das colunas). Isto faz ficar mais f\u00e1cil para selecionar colunas espec\u00edficas.\n",
      "\n",
      "Selecionar uma coluna de um DataFrame vai retornar um objeto do tipo Series."
     ]
    },
    {
     "cell_type": "code",
     "collapsed": false,
     "input": [
      "users['occupation'].head()"
     ],
     "language": "python",
     "metadata": {},
     "outputs": [
      {
       "metadata": {},
       "output_type": "pyout",
       "prompt_number": 28,
       "text": [
        "0    technician\n",
        "1         other\n",
        "2        writer\n",
        "3    technician\n",
        "4         other\n",
        "Name: occupation, dtype: object"
       ]
      }
     ],
     "prompt_number": 28
    },
    {
     "cell_type": "markdown",
     "metadata": {},
     "source": [
      "Para selecionar m\u00faltiplas colunas, basta passar uma simples lista de strings (colunas) para o DataFrame, a sa\u00edda vai ser um DataFrame."
     ]
    },
    {
     "cell_type": "code",
     "collapsed": false,
     "input": [
      "print users[['age', 'zip_code']].head()\n",
      "print '\\n'\n",
      "\n",
      "# can also store in a variable to use later\n",
      "columns_you_want = ['occupation', 'sex'] \n",
      "print users[columns_you_want].head()"
     ],
     "language": "python",
     "metadata": {},
     "outputs": [
      {
       "output_type": "stream",
       "stream": "stdout",
       "text": [
        "   age zip_code\n",
        "0   24    85711\n",
        "1   53    94043\n",
        "2   23    32067\n",
        "3   24    43537\n",
        "4   33    15213\n",
        "\n",
        "\n",
        "   occupation sex\n",
        "0  technician   M\n",
        "1       other   F\n",
        "2      writer   M\n",
        "3  technician   M\n",
        "4       other   F\n"
       ]
      }
     ],
     "prompt_number": 29
    },
    {
     "cell_type": "markdown",
     "metadata": {},
     "source": [
      "Sele\u00e7\u00e3o de linhas pode ser feita de v\u00e1rias maneiras, mas as maneiras mais f\u00e1ceis \u00e9 pelo \u00edndice individual ou boolean indexing.\n"
     ]
    },
    {
     "cell_type": "code",
     "collapsed": false,
     "input": [
      "# users older than 25\n",
      "print users[users.age > 25].head(3)\n",
      "print '\\n'\n",
      "\n",
      "# users aged 40 AND male\n",
      "print users[(users.age == 40) & (users.sex == 'M')].head(3)\n",
      "print '\\n'\n",
      "\n",
      "# users younger than 30 OR female\n",
      "print users[(users.sex == 'F') | (users.age < 30)].head(3)"
     ],
     "language": "python",
     "metadata": {},
     "outputs": [
      {
       "output_type": "stream",
       "stream": "stdout",
       "text": [
        "   user_id  age sex occupation zip_code\n",
        "1        2   53   F      other    94043\n",
        "4        5   33   F      other    15213\n",
        "5        6   42   M  executive    98101\n",
        "\n",
        "\n",
        "     user_id  age sex  occupation zip_code\n",
        "18        19   40   M   librarian    02138\n",
        "82        83   40   M       other    44133\n",
        "115      116   40   M  healthcare    97232\n",
        "\n",
        "\n",
        "   user_id  age sex  occupation zip_code\n",
        "0        1   24   M  technician    85711\n",
        "1        2   53   F       other    94043\n",
        "2        3   23   M      writer    32067"
       ]
      },
      {
       "output_type": "stream",
       "stream": "stdout",
       "text": [
        "\n"
       ]
      }
     ],
     "prompt_number": 31
    },
    {
     "cell_type": "markdown",
     "metadata": {},
     "source": [
      "J\u00e1 que o nosso \u00edndice \u00e9 in\u00fatil neste nosso exemplo, vamos atribu\u00ed-lo ao nosso user_id usando o m\u00e9todo set_index. Por padr\u00e3o, set_index retorna um novo DataFrame, portanto voc\u00ea deve especificar se voc\u00ea deseja que as mudan\u00e7as sejam ocorridas no modo in-place."
     ]
    },
    {
     "cell_type": "code",
     "collapsed": false,
     "input": [
      "print users.set_index('user_id').head()\n",
      "print '\\n'\n",
      "\n",
      "print users.head()\n",
      "print \"\\n^^^ I didn't actually change the DataFrame. ^^^\\n\"\n",
      "\n",
      "with_new_index = users.set_index('user_id')\n",
      "print with_new_index.head()\n",
      "print \"\\n^^^ set_index actually returns a new DataFrame. ^^^\\n\""
     ],
     "language": "python",
     "metadata": {},
     "outputs": [
      {
       "output_type": "stream",
       "stream": "stdout",
       "text": [
        "         age sex  occupation zip_code\n",
        "user_id                              \n",
        "1         24   M  technician    85711\n",
        "2         53   F       other    94043\n",
        "3         23   M      writer    32067\n",
        "4         24   M  technician    43537\n",
        "5         33   F       other    15213\n",
        "\n",
        "\n",
        "   user_id  age sex  occupation zip_code\n",
        "0        1   24   M  technician    85711\n",
        "1        2   53   F       other    94043\n",
        "2        3   23   M      writer    32067\n",
        "3        4   24   M  technician    43537\n",
        "4        5   33   F       other    15213\n",
        "\n",
        "^^^ I didn't actually change the DataFrame. ^^^\n",
        "\n",
        "         age sex  occupation zip_code\n",
        "user_id                              \n",
        "1         24   M  technician    85711\n",
        "2         53   F       other    94043\n",
        "3         23   M      writer    32067\n",
        "4         24   M  technician    43537\n",
        "5         33   F       other    15213\n",
        "\n",
        "^^^ set_index actually returns a new DataFrame. ^^^\n",
        "\n"
       ]
      }
     ],
     "prompt_number": 32
    },
    {
     "cell_type": "markdown",
     "metadata": {},
     "source": [
      "Se quiser modificar seu DataFrame original use o parametro inplace."
     ]
    },
    {
     "cell_type": "code",
     "collapsed": false,
     "input": [
      "users.set_index('user_id', inplace=True)\n",
      "print users.head()"
     ],
     "language": "python",
     "metadata": {},
     "outputs": [
      {
       "output_type": "stream",
       "stream": "stdout",
       "text": [
        "         age sex  occupation zip_code\n",
        "user_id                              \n",
        "1         24   M  technician    85711\n",
        "2         53   F       other    94043\n",
        "3         23   M      writer    32067\n",
        "4         24   M  technician    43537\n",
        "5         33   F       other    15213\n"
       ]
      }
     ],
     "prompt_number": 33
    },
    {
     "cell_type": "markdown",
     "metadata": {},
     "source": [
      "Perdemos o \u00edndice padr\u00e3o do pandas a partir do 0 e trocamos o \u00edndice para o user_id.  Podemos agora selecionar as linhas usando o \u00edndice por meio do m\u00e9todo ix."
     ]
    },
    {
     "cell_type": "code",
     "collapsed": false,
     "input": [
      "print users.ix[99]\n",
      "print '\\n'\n",
      "print users.ix[[1, 50, 300]]"
     ],
     "language": "python",
     "metadata": {},
     "outputs": [
      {
       "output_type": "stream",
       "stream": "stdout",
       "text": [
        "age                20\n",
        "sex                 M\n",
        "occupation    student\n",
        "zip_code        63129\n",
        "Name: 99, dtype: object\n",
        "\n",
        "\n",
        "     age sex  occupation zip_code\n",
        "1     24   M  technician    85711\n",
        "50    21   M      writer    52245\n",
        "300   26   F  programmer    55106\n"
       ]
      }
     ],
     "prompt_number": 34
    },
    {
     "cell_type": "markdown",
     "metadata": {},
     "source": [
      "Se quisermos de volta o antigo \u00edndice padr\u00e3o do pandas, basta resetarmos o \u00edndice com reset_index. Mesmas regas de inplace aqui s\u00e3o v\u00e1lidas."
     ]
    },
    {
     "cell_type": "code",
     "collapsed": false,
     "input": [
      "users.reset_index(inplace=True)\n",
      "print users.head()"
     ],
     "language": "python",
     "metadata": {},
     "outputs": [
      {
       "output_type": "stream",
       "stream": "stdout",
       "text": [
        "   user_id  age sex  occupation zip_code\n",
        "0        1   24   M  technician    85711\n",
        "1        2   53   F       other    94043\n",
        "2        3   23   M      writer    32067\n",
        "3        4   24   M  technician    43537\n",
        "4        5   33   F       other    15213\n"
       ]
      }
     ],
     "prompt_number": 35
    },
    {
     "cell_type": "markdown",
     "metadata": {},
     "source": [
      "Tem v\u00e1rias outras maneiras de acessar dados por \u00edndices, d\u00eaem uma olhada neste link: http://pandas.pydata.org/pandas-docs/stable/indexing.html"
     ]
    },
    {
     "cell_type": "markdown",
     "metadata": {},
     "source": [
      "##Joining\n",
      "\n",
      "Vamos partir para uma an\u00e1lise mais profunda, que a\u00ed de onde vem o poder do pandas!\n",
      "\n",
      "Geralmente em uma an\u00e1lise precisamos fazer merge/join de dados que geralmente s\u00e3o armazenados de forma relacional.\n",
      "\n",
      "As bases de dados do Movielens s\u00e3o excelentes exemplos disto - uma nota precisa de um filme e um usu\u00e1rio e as respectivas bases de dados s\u00e3o conectadas por uma chave, que neste caso s\u00e3o user_id e movie_id. \u00c9 poss\u00edvel que um usu\u00e1rio esteja associado com 0 ou mais filmes e notas. Da mesma maneira que um filme pode ser avaliado 0 ou mais vezes por um n\u00famero diferente de usu\u00e1rios.\n",
      "\n",
      "Como a clausula JOIN no SQL, pandas.merge permite que 2 DataFrames possam ser agrupados por meio de um ou mais chaves. A fun\u00e7\u00e3o prov\u00ea uma s\u00e9rie de par\u00e2metros (on, left_on, right_on, left_index, right_index) permitindo que voc\u00ea possa especificar sobre quais colunas ou \u00edndices que voc\u00ca deseja realizar o join.\n",
      "\n",
      "Por padr\u00e3o , pandas.merge opera como um inner join, que pode alterado usando o par\u00e2metro how."
     ]
    },
    {
     "cell_type": "markdown",
     "metadata": {},
     "source": [
      "A partir do docstring:\n",
      "\n",
      "how : {'left', 'right', 'outer', 'inner'}, default 'inner'\n",
      "\n",
      "- left: usa apenas chaves do frame da esquerda (SQL: left outer join)\n",
      "- right: usa apenas chaves do frame da direita (SQL: right outer join)\n",
      "- outer: usa a uni\u00e3o das chaves de ambos frames (SQL: full outer join)\n",
      "- inner: usa a interse\u00e7\u00e3o das chaves de ambos frames (SQL: inner join)\n",
      "\n",
      "\n",
      "Vejam alguns exemplos de cada um:"
     ]
    },
    {
     "cell_type": "code",
     "collapsed": false,
     "input": [
      "left_frame = pd.DataFrame({'key': range(5), \n",
      "                           'left_value': ['a', 'b', 'c', 'd', 'e']})\n",
      "right_frame = pd.DataFrame({'key': range(2, 7), \n",
      "                           'right_value': ['f', 'g', 'h', 'i', 'j']})\n",
      "print left_frame\n",
      "print '\\n'\n",
      "print right_frame"
     ],
     "language": "python",
     "metadata": {},
     "outputs": [
      {
       "output_type": "stream",
       "stream": "stdout",
       "text": [
        "   key left_value\n",
        "0    0          a\n",
        "1    1          b\n",
        "2    2          c\n",
        "3    3          d\n",
        "4    4          e\n",
        "\n",
        "\n",
        "   key right_value\n",
        "0    2           f\n",
        "1    3           g\n",
        "2    4           h\n",
        "3    5           i\n",
        "4    6           j\n"
       ]
      }
     ],
     "prompt_number": 38
    },
    {
     "cell_type": "markdown",
     "metadata": {},
     "source": [
      "###inner join (default)"
     ]
    },
    {
     "cell_type": "code",
     "collapsed": false,
     "input": [
      "print pd.merge(left_frame, right_frame, on='key', how='inner')"
     ],
     "language": "python",
     "metadata": {},
     "outputs": [
      {
       "output_type": "stream",
       "stream": "stdout",
       "text": [
        "   key left_value right_value\n",
        "0    2          c           f\n",
        "1    3          d           g\n",
        "2    4          e           h\n"
       ]
      }
     ],
     "prompt_number": 39
    },
    {
     "cell_type": "markdown",
     "metadata": {},
     "source": [
      "Perceba que perdemos alguns dados de ambos os frames j\u00e1 que algumas chaves n\u00e3o batem. O SQL equivalente:\n",
      "\n",
      "    SELECT left_frame.key, left_frame.left_value, right_frame.right_value\n",
      "    FROM left_frame\n",
      "    INNER JOIN right_frame\n",
      "        ON left_frame.key = right_frame.key;"
     ]
    },
    {
     "cell_type": "markdown",
     "metadata": {},
     "source": [
      "Visto que as chaves das colunas n\u00e3o s\u00e3o totalmente iguais, n\u00f3s podemos usar left_on e right_on como par\u00e2metros para especificar que campos queremos fazer o join de cada frame.\n",
      "\n",
      "pd.merge(left_frame, right_frame, left_on='left_key', right_on='right_key')\n",
      "\n",
      "Outra alternativa, se nossas chaves fossem \u00edndices, n\u00f3s poder\u00edamos usar left_index ou right_index, que aceitam valores True/False. Voc\u00ea pode fazer um mix deles e casar as colunas e \u00edndices como a seguir:\n",
      "\n",
      "pd.merge(left_frame, right_frame, left_on='key', right_index=True)"
     ]
    },
    {
     "cell_type": "markdown",
     "metadata": {},
     "source": [
      "###left outer join\n"
     ]
    },
    {
     "cell_type": "code",
     "collapsed": false,
     "input": [
      "print pd.merge(left_frame, right_frame, on='key', how='left')"
     ],
     "language": "python",
     "metadata": {},
     "outputs": [
      {
       "output_type": "stream",
       "stream": "stdout",
       "text": [
        "   key left_value right_value\n",
        "0    0          a         NaN\n",
        "1    1          b         NaN\n",
        "2    2          c           f\n",
        "3    3          d           g\n",
        "4    4          e           h\n"
       ]
      }
     ],
     "prompt_number": 40
    },
    {
     "cell_type": "markdown",
     "metadata": {},
     "source": [
      "N\u00f3s permanecemos tudo que vem do frame da equerda, extraindo os valores do frame da direita cujas as chaves casam. O valor para right_value \u00e9 NaN para todas as chaves que n\u00e3o casam.  Observem o SQL:\n",
      "\n",
      "\n",
      "SELECT left_frame.key, left_frame.left_value, right_frame.right_value\n",
      "FROM left_frame\n",
      "LEFT JOIN right_frame\n",
      "    ON left_frame.key = right_frame.key;"
     ]
    },
    {
     "cell_type": "markdown",
     "metadata": {},
     "source": [
      "###right outer join"
     ]
    },
    {
     "cell_type": "code",
     "collapsed": false,
     "input": [
      "print pd.merge(left_frame, right_frame, on='key', how='right')"
     ],
     "language": "python",
     "metadata": {},
     "outputs": [
      {
       "output_type": "stream",
       "stream": "stdout",
       "text": [
        "   key left_value right_value\n",
        "0    2          c           f\n",
        "1    3          d           g\n",
        "2    4          e           h\n",
        "3    5        NaN           i\n",
        "4    6        NaN           j\n"
       ]
      }
     ],
     "prompt_number": 41
    },
    {
     "cell_type": "markdown",
     "metadata": {},
     "source": [
      "Vejam que desta vez n\u00f3s mantivemos todos os valores do frame da direita com os valores para left_value igual a NaN onde as chaves do frame da direita n\u00e3o casam com o da esquerda.\n",
      "\n",
      "Equivalente SQL:\n",
      "\n",
      "SELECT right_frame.key, left_frame.left_value, right_frame.right_value\n",
      "FROM left_frame\n",
      "RIGHT JOIN right_frame\n",
      "    ON left_frame.key = right_frame.key;"
     ]
    },
    {
     "cell_type": "markdown",
     "metadata": {},
     "source": [
      "###full outer join"
     ]
    },
    {
     "cell_type": "code",
     "collapsed": false,
     "input": [
      "print pd.merge(left_frame, right_frame, on='key', how='outer')"
     ],
     "language": "python",
     "metadata": {},
     "outputs": [
      {
       "output_type": "stream",
       "stream": "stdout",
       "text": [
        "   key left_value right_value\n",
        "0    0          a         NaN\n",
        "1    1          b         NaN\n",
        "2    2          c           f\n",
        "3    3          d           g\n",
        "4    4          e           h\n",
        "5    5        NaN           i\n",
        "6    6        NaN           j\n"
       ]
      }
     ],
     "prompt_number": 42
    },
    {
     "cell_type": "markdown",
     "metadata": {},
     "source": [
      "N\u00f3s mantemos tudo que est\u00e3o em ambos os frames, independentes de eles estarem ou n\u00e3o em ambos oslados. Onde n\u00e3o houve um casamento os valores correspondentes para aquela chave s\u00e3o NaN.\n",
      "\n",
      "Equivalente SQL (Embora alguns banco de dados n\u00e3o permitam FULL JOIN's como MySQL):\n",
      "\n",
      "SELECT IFNULL(left_frame.key, right_frame.key) key\n",
      "        , left_frame.left_value, right_frame.right_value\n",
      "FROM left_frame\n",
      "FULL OUTER JOIN right_frame\n",
      "    ON left_frame.key = right_frame.key;"
     ]
    },
    {
     "cell_type": "markdown",
     "metadata": {},
     "source": [
      "##Combining\n",
      "\n",
      "pandas tamb\u00e9m prov\u00ea mecanismos de combinar DataFrames a partir do eixo - pandas.concat.  Esta fun\u00e7\u00e3o \u00e9 equivalente ao SQL UNION, mas \n",
      "logicamente h\u00e1 muito mais que pode se fazer com ela.\n",
      "\n",
      "pandas.concat pega uma lista de Series ou DataFrames e retorna uma Series ou DataFrame de objetos concatenados. Perceba que por causa que essa fun\u00e7\u00e3o pega uma lista , voc\u00ea pode combinar v\u00e1rios objetos em um."
     ]
    },
    {
     "cell_type": "code",
     "collapsed": false,
     "input": [
      "pd.concat([left_frame, right_frame])"
     ],
     "language": "python",
     "metadata": {},
     "outputs": [
      {
       "html": [
        "<div style=\"max-height:1000px;max-width:1500px;overflow:auto;\">\n",
        "<table border=\"1\" class=\"dataframe\">\n",
        "  <thead>\n",
        "    <tr style=\"text-align: right;\">\n",
        "      <th></th>\n",
        "      <th>key</th>\n",
        "      <th>left_value</th>\n",
        "      <th>right_value</th>\n",
        "    </tr>\n",
        "  </thead>\n",
        "  <tbody>\n",
        "    <tr>\n",
        "      <th>0</th>\n",
        "      <td> 0</td>\n",
        "      <td>   a</td>\n",
        "      <td> NaN</td>\n",
        "    </tr>\n",
        "    <tr>\n",
        "      <th>1</th>\n",
        "      <td> 1</td>\n",
        "      <td>   b</td>\n",
        "      <td> NaN</td>\n",
        "    </tr>\n",
        "    <tr>\n",
        "      <th>2</th>\n",
        "      <td> 2</td>\n",
        "      <td>   c</td>\n",
        "      <td> NaN</td>\n",
        "    </tr>\n",
        "    <tr>\n",
        "      <th>3</th>\n",
        "      <td> 3</td>\n",
        "      <td>   d</td>\n",
        "      <td> NaN</td>\n",
        "    </tr>\n",
        "    <tr>\n",
        "      <th>4</th>\n",
        "      <td> 4</td>\n",
        "      <td>   e</td>\n",
        "      <td> NaN</td>\n",
        "    </tr>\n",
        "    <tr>\n",
        "      <th>0</th>\n",
        "      <td> 2</td>\n",
        "      <td> NaN</td>\n",
        "      <td>   f</td>\n",
        "    </tr>\n",
        "    <tr>\n",
        "      <th>1</th>\n",
        "      <td> 3</td>\n",
        "      <td> NaN</td>\n",
        "      <td>   g</td>\n",
        "    </tr>\n",
        "    <tr>\n",
        "      <th>2</th>\n",
        "      <td> 4</td>\n",
        "      <td> NaN</td>\n",
        "      <td>   h</td>\n",
        "    </tr>\n",
        "    <tr>\n",
        "      <th>3</th>\n",
        "      <td> 5</td>\n",
        "      <td> NaN</td>\n",
        "      <td>   i</td>\n",
        "    </tr>\n",
        "    <tr>\n",
        "      <th>4</th>\n",
        "      <td> 6</td>\n",
        "      <td> NaN</td>\n",
        "      <td>   j</td>\n",
        "    </tr>\n",
        "  </tbody>\n",
        "</table>\n",
        "</div>"
       ],
       "metadata": {},
       "output_type": "pyout",
       "prompt_number": 43,
       "text": [
        "   key left_value right_value\n",
        "0    0          a         NaN\n",
        "1    1          b         NaN\n",
        "2    2          c         NaN\n",
        "3    3          d         NaN\n",
        "4    4          e         NaN\n",
        "0    2        NaN           f\n",
        "1    3        NaN           g\n",
        "2    4        NaN           h\n",
        "3    5        NaN           i\n",
        "4    6        NaN           j"
       ]
      }
     ],
     "prompt_number": 43
    },
    {
     "cell_type": "markdown",
     "metadata": {},
     "source": [
      "Por padr\u00e3o, a fun\u00e7\u00e3o ir\u00e1 fazer um append dos objetos de  forma vertical, combinando as colunas com o mesmo valor. Podemos perceber acima que os valores que n\u00e3o casam ir\u00e3o retornar NaN\n",
      "\n",
      "Podemos tamb\u00e9m concatenar so frames de forma lado a lado com o par\u00e2metro axis."
     ]
    },
    {
     "cell_type": "code",
     "collapsed": false,
     "input": [
      "pd.concat([left_frame, right_frame], axis=1)"
     ],
     "language": "python",
     "metadata": {},
     "outputs": [
      {
       "html": [
        "<div style=\"max-height:1000px;max-width:1500px;overflow:auto;\">\n",
        "<table border=\"1\" class=\"dataframe\">\n",
        "  <thead>\n",
        "    <tr style=\"text-align: right;\">\n",
        "      <th></th>\n",
        "      <th>key</th>\n",
        "      <th>left_value</th>\n",
        "      <th>key</th>\n",
        "      <th>right_value</th>\n",
        "    </tr>\n",
        "  </thead>\n",
        "  <tbody>\n",
        "    <tr>\n",
        "      <th>0</th>\n",
        "      <td> 0</td>\n",
        "      <td> a</td>\n",
        "      <td> 2</td>\n",
        "      <td> f</td>\n",
        "    </tr>\n",
        "    <tr>\n",
        "      <th>1</th>\n",
        "      <td> 1</td>\n",
        "      <td> b</td>\n",
        "      <td> 3</td>\n",
        "      <td> g</td>\n",
        "    </tr>\n",
        "    <tr>\n",
        "      <th>2</th>\n",
        "      <td> 2</td>\n",
        "      <td> c</td>\n",
        "      <td> 4</td>\n",
        "      <td> h</td>\n",
        "    </tr>\n",
        "    <tr>\n",
        "      <th>3</th>\n",
        "      <td> 3</td>\n",
        "      <td> d</td>\n",
        "      <td> 5</td>\n",
        "      <td> i</td>\n",
        "    </tr>\n",
        "    <tr>\n",
        "      <th>4</th>\n",
        "      <td> 4</td>\n",
        "      <td> e</td>\n",
        "      <td> 6</td>\n",
        "      <td> j</td>\n",
        "    </tr>\n",
        "  </tbody>\n",
        "</table>\n",
        "</div>"
       ],
       "metadata": {},
       "output_type": "pyout",
       "prompt_number": 44,
       "text": [
        "   key left_value  key right_value\n",
        "0    0          a    2           f\n",
        "1    1          b    3           g\n",
        "2    2          c    4           h\n",
        "3    3          d    5           i\n",
        "4    4          e    6           j"
       ]
      }
     ],
     "prompt_number": 44
    },
    {
     "cell_type": "markdown",
     "metadata": {},
     "source": [
      "pandas.concat pdoe ser usado de diversas formas, todavia eu geralmente uso elas para combinar Series/DataFrames em um \u00fanico objeto. Documenta\u00e7\u00e3o com v\u00e1rios exemplos pode ser vista aqui: http://pandas.pydata.org/pandas-docs/stable/merging.html#concatenating-objects"
     ]
    },
    {
     "cell_type": "markdown",
     "metadata": {},
     "source": [
      "##Grouping\n"
     ]
    },
    {
     "cell_type": "code",
     "collapsed": false,
     "input": [],
     "language": "python",
     "metadata": {},
     "outputs": []
    }
   ],
   "metadata": {}
  }
 ]
}